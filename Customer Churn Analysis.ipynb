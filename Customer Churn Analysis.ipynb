{
 "cells": [
  {
   "cell_type": "markdown",
   "id": "39582ae8",
   "metadata": {},
   "source": [
    " Customer Churn Analysis\n",
    "Problem Statement:\n",
    "\n",
    "Customer churn is when a company’s customers stop doing business with that company. Businesses are very keen on measuring churn because keeping an existing customer is far less expensive than acquiring a new customer. New business involves working leads through a sales funnel, using marketing and sales budgets to gain additional customers. Existing customers will often have a higher volume of service consumption and can generate additional customer referrals.\n",
    "\n",
    "Customer retention can be achieved with good customer service and products. But the most effective way for a company to prevent attrition of customers is to truly know them. The vast volumes of data collected about customers can be used to build churn prediction models. Knowing who is most likely to defect means that a company can prioritise focused marketing efforts on that subset of their customer base.\n",
    "\n",
    "Preventing customer churn is critically important to the telecommunications sector, as the barriers to entry for switching services are so low. \n",
    "\n",
    "You will examine customer data from IBM Sample Data Sets with the aim of building and comparing several customer churn prediction models. "
   ]
  },
  {
   "cell_type": "code",
   "execution_count": 1,
   "id": "b8c60137",
   "metadata": {},
   "outputs": [],
   "source": [
    "#Import all libraries\n",
    "import pandas as pd\n",
    "import numpy as np\n",
    "import seaborn as sns\n",
    "import matplotlib.pyplot as plt\n",
    "from scipy.stats import zscore\n",
    "import sklearn\n",
    "from sklearn.tree import DecisionTreeClassifier\n",
    "from sklearn.neighbors import KNeighborsClassifier\n",
    "from sklearn.tree import DecisionTreeClassifier\n",
    "from sklearn.ensemble import RandomForestClassifier\n",
    "from sklearn.ensemble import AdaBoostClassifier\n",
    "from sklearn.svm import SVC\n",
    "from sklearn.naive_bayes import GaussianNB\n",
    "from sklearn.metrics import mean_squared_log_error,mean_absolute_error\n",
    "from sklearn.metrics import accuracy_score\n",
    "from sklearn.metrics import confusion_matrix,classification_report\n",
    "from sklearn.model_selection import train_test_split\n",
    "from sklearn.model_selection import cross_val_score\n",
    "from sklearn.model_selection import GridSearchCV\n",
    "from sklearn.metrics import precision_score, recall_score, f1_score, roc_auc_score, accuracy_score, classification_report\n",
    "import warnings\n",
    "warnings.filterwarnings('ignore')\n",
    "from sklearn.preprocessing import LabelEncoder\n",
    "from sklearn.linear_model import LogisticRegression\n",
    "#!pip install -U imbalanced-learn\n",
    "#!pip install imbalanced-learn\n",
    "from imblearn.over_sampling import RandomOverSampler\n",
    "from sklearn.preprocessing import OrdinalEncoder\n",
    "#import imblearn\n",
    "from imblearn.over_sampling import SMOTE"
   ]
  },
  {
   "cell_type": "code",
   "execution_count": 3,
   "id": "90cba1d6",
   "metadata": {},
   "outputs": [],
   "source": [
    "#Lets import the Data \n",
    "df=pd.read_csv(r'C:/Users/SYS1/Downloads/Telecom_customer_churn.csv')"
   ]
  },
  {
   "cell_type": "code",
   "execution_count": 4,
   "id": "5375b399",
   "metadata": {},
   "outputs": [
    {
     "data": {
      "text/html": [
       "<div>\n",
       "<style scoped>\n",
       "    .dataframe tbody tr th:only-of-type {\n",
       "        vertical-align: middle;\n",
       "    }\n",
       "\n",
       "    .dataframe tbody tr th {\n",
       "        vertical-align: top;\n",
       "    }\n",
       "\n",
       "    .dataframe thead th {\n",
       "        text-align: right;\n",
       "    }\n",
       "</style>\n",
       "<table border=\"1\" class=\"dataframe\">\n",
       "  <thead>\n",
       "    <tr style=\"text-align: right;\">\n",
       "      <th></th>\n",
       "      <th>customerID</th>\n",
       "      <th>gender</th>\n",
       "      <th>SeniorCitizen</th>\n",
       "      <th>Partner</th>\n",
       "      <th>Dependents</th>\n",
       "      <th>tenure</th>\n",
       "      <th>PhoneService</th>\n",
       "      <th>MultipleLines</th>\n",
       "      <th>InternetService</th>\n",
       "      <th>OnlineSecurity</th>\n",
       "      <th>...</th>\n",
       "      <th>DeviceProtection</th>\n",
       "      <th>TechSupport</th>\n",
       "      <th>StreamingTV</th>\n",
       "      <th>StreamingMovies</th>\n",
       "      <th>Contract</th>\n",
       "      <th>PaperlessBilling</th>\n",
       "      <th>PaymentMethod</th>\n",
       "      <th>MonthlyCharges</th>\n",
       "      <th>TotalCharges</th>\n",
       "      <th>Churn</th>\n",
       "    </tr>\n",
       "  </thead>\n",
       "  <tbody>\n",
       "    <tr>\n",
       "      <th>0</th>\n",
       "      <td>7590-VHVEG</td>\n",
       "      <td>Female</td>\n",
       "      <td>0</td>\n",
       "      <td>Yes</td>\n",
       "      <td>No</td>\n",
       "      <td>1</td>\n",
       "      <td>No</td>\n",
       "      <td>No phone service</td>\n",
       "      <td>DSL</td>\n",
       "      <td>No</td>\n",
       "      <td>...</td>\n",
       "      <td>No</td>\n",
       "      <td>No</td>\n",
       "      <td>No</td>\n",
       "      <td>No</td>\n",
       "      <td>Month-to-month</td>\n",
       "      <td>Yes</td>\n",
       "      <td>Electronic check</td>\n",
       "      <td>29.85</td>\n",
       "      <td>29.85</td>\n",
       "      <td>No</td>\n",
       "    </tr>\n",
       "    <tr>\n",
       "      <th>1</th>\n",
       "      <td>5575-GNVDE</td>\n",
       "      <td>Male</td>\n",
       "      <td>0</td>\n",
       "      <td>No</td>\n",
       "      <td>No</td>\n",
       "      <td>34</td>\n",
       "      <td>Yes</td>\n",
       "      <td>No</td>\n",
       "      <td>DSL</td>\n",
       "      <td>Yes</td>\n",
       "      <td>...</td>\n",
       "      <td>Yes</td>\n",
       "      <td>No</td>\n",
       "      <td>No</td>\n",
       "      <td>No</td>\n",
       "      <td>One year</td>\n",
       "      <td>No</td>\n",
       "      <td>Mailed check</td>\n",
       "      <td>56.95</td>\n",
       "      <td>1889.5</td>\n",
       "      <td>No</td>\n",
       "    </tr>\n",
       "    <tr>\n",
       "      <th>2</th>\n",
       "      <td>3668-QPYBK</td>\n",
       "      <td>Male</td>\n",
       "      <td>0</td>\n",
       "      <td>No</td>\n",
       "      <td>No</td>\n",
       "      <td>2</td>\n",
       "      <td>Yes</td>\n",
       "      <td>No</td>\n",
       "      <td>DSL</td>\n",
       "      <td>Yes</td>\n",
       "      <td>...</td>\n",
       "      <td>No</td>\n",
       "      <td>No</td>\n",
       "      <td>No</td>\n",
       "      <td>No</td>\n",
       "      <td>Month-to-month</td>\n",
       "      <td>Yes</td>\n",
       "      <td>Mailed check</td>\n",
       "      <td>53.85</td>\n",
       "      <td>108.15</td>\n",
       "      <td>Yes</td>\n",
       "    </tr>\n",
       "    <tr>\n",
       "      <th>3</th>\n",
       "      <td>7795-CFOCW</td>\n",
       "      <td>Male</td>\n",
       "      <td>0</td>\n",
       "      <td>No</td>\n",
       "      <td>No</td>\n",
       "      <td>45</td>\n",
       "      <td>No</td>\n",
       "      <td>No phone service</td>\n",
       "      <td>DSL</td>\n",
       "      <td>Yes</td>\n",
       "      <td>...</td>\n",
       "      <td>Yes</td>\n",
       "      <td>Yes</td>\n",
       "      <td>No</td>\n",
       "      <td>No</td>\n",
       "      <td>One year</td>\n",
       "      <td>No</td>\n",
       "      <td>Bank transfer (automatic)</td>\n",
       "      <td>42.30</td>\n",
       "      <td>1840.75</td>\n",
       "      <td>No</td>\n",
       "    </tr>\n",
       "    <tr>\n",
       "      <th>4</th>\n",
       "      <td>9237-HQITU</td>\n",
       "      <td>Female</td>\n",
       "      <td>0</td>\n",
       "      <td>No</td>\n",
       "      <td>No</td>\n",
       "      <td>2</td>\n",
       "      <td>Yes</td>\n",
       "      <td>No</td>\n",
       "      <td>Fiber optic</td>\n",
       "      <td>No</td>\n",
       "      <td>...</td>\n",
       "      <td>No</td>\n",
       "      <td>No</td>\n",
       "      <td>No</td>\n",
       "      <td>No</td>\n",
       "      <td>Month-to-month</td>\n",
       "      <td>Yes</td>\n",
       "      <td>Electronic check</td>\n",
       "      <td>70.70</td>\n",
       "      <td>151.65</td>\n",
       "      <td>Yes</td>\n",
       "    </tr>\n",
       "  </tbody>\n",
       "</table>\n",
       "<p>5 rows × 21 columns</p>\n",
       "</div>"
      ],
      "text/plain": [
       "   customerID  gender  SeniorCitizen Partner Dependents  tenure PhoneService  \\\n",
       "0  7590-VHVEG  Female              0     Yes         No       1           No   \n",
       "1  5575-GNVDE    Male              0      No         No      34          Yes   \n",
       "2  3668-QPYBK    Male              0      No         No       2          Yes   \n",
       "3  7795-CFOCW    Male              0      No         No      45           No   \n",
       "4  9237-HQITU  Female              0      No         No       2          Yes   \n",
       "\n",
       "      MultipleLines InternetService OnlineSecurity  ... DeviceProtection  \\\n",
       "0  No phone service             DSL             No  ...               No   \n",
       "1                No             DSL            Yes  ...              Yes   \n",
       "2                No             DSL            Yes  ...               No   \n",
       "3  No phone service             DSL            Yes  ...              Yes   \n",
       "4                No     Fiber optic             No  ...               No   \n",
       "\n",
       "  TechSupport StreamingTV StreamingMovies        Contract PaperlessBilling  \\\n",
       "0          No          No              No  Month-to-month              Yes   \n",
       "1          No          No              No        One year               No   \n",
       "2          No          No              No  Month-to-month              Yes   \n",
       "3         Yes          No              No        One year               No   \n",
       "4          No          No              No  Month-to-month              Yes   \n",
       "\n",
       "               PaymentMethod MonthlyCharges  TotalCharges Churn  \n",
       "0           Electronic check          29.85         29.85    No  \n",
       "1               Mailed check          56.95        1889.5    No  \n",
       "2               Mailed check          53.85        108.15   Yes  \n",
       "3  Bank transfer (automatic)          42.30       1840.75    No  \n",
       "4           Electronic check          70.70        151.65   Yes  \n",
       "\n",
       "[5 rows x 21 columns]"
      ]
     },
     "execution_count": 4,
     "metadata": {},
     "output_type": "execute_result"
    }
   ],
   "source": [
    "df.head()"
   ]
  },
  {
   "cell_type": "code",
   "execution_count": 5,
   "id": "4021e159",
   "metadata": {},
   "outputs": [
    {
     "data": {
      "text/plain": [
       "(7043, 21)"
      ]
     },
     "execution_count": 5,
     "metadata": {},
     "output_type": "execute_result"
    }
   ],
   "source": [
    "df.shape"
   ]
  },
  {
   "cell_type": "code",
   "execution_count": 7,
   "id": "24279c33",
   "metadata": {},
   "outputs": [
    {
     "name": "stdout",
     "output_type": "stream",
     "text": [
      "<class 'pandas.core.frame.DataFrame'>\n",
      "RangeIndex: 7043 entries, 0 to 7042\n",
      "Data columns (total 21 columns):\n",
      " #   Column            Non-Null Count  Dtype  \n",
      "---  ------            --------------  -----  \n",
      " 0   customerID        7043 non-null   object \n",
      " 1   gender            7043 non-null   object \n",
      " 2   SeniorCitizen     7043 non-null   int64  \n",
      " 3   Partner           7043 non-null   object \n",
      " 4   Dependents        7043 non-null   object \n",
      " 5   tenure            7043 non-null   int64  \n",
      " 6   PhoneService      7043 non-null   object \n",
      " 7   MultipleLines     7043 non-null   object \n",
      " 8   InternetService   7043 non-null   object \n",
      " 9   OnlineSecurity    7043 non-null   object \n",
      " 10  OnlineBackup      7043 non-null   object \n",
      " 11  DeviceProtection  7043 non-null   object \n",
      " 12  TechSupport       7043 non-null   object \n",
      " 13  StreamingTV       7043 non-null   object \n",
      " 14  StreamingMovies   7043 non-null   object \n",
      " 15  Contract          7043 non-null   object \n",
      " 16  PaperlessBilling  7043 non-null   object \n",
      " 17  PaymentMethod     7043 non-null   object \n",
      " 18  MonthlyCharges    7043 non-null   float64\n",
      " 19  TotalCharges      7043 non-null   object \n",
      " 20  Churn             7043 non-null   object \n",
      "dtypes: float64(1), int64(2), object(18)\n",
      "memory usage: 1.1+ MB\n"
     ]
    }
   ],
   "source": [
    "df.info()"
   ]
  },
  {
   "cell_type": "markdown",
   "id": "8521745b",
   "metadata": {},
   "source": [
    "From the above we can notice that almost al the column values are of catogorical. TotalCharges and Monthly Charge are of numerical datas But DataType of TotalCharges seem to be in Object type. lets check this column first. So convert into numeric datatype and check for any missing values in raw data. "
   ]
  },
  {
   "cell_type": "code",
   "execution_count": 8,
   "id": "72c669e1",
   "metadata": {},
   "outputs": [
    {
     "data": {
      "text/plain": [
       "customerID           object\n",
       "gender               object\n",
       "SeniorCitizen         int64\n",
       "Partner              object\n",
       "Dependents           object\n",
       "tenure                int64\n",
       "PhoneService         object\n",
       "MultipleLines        object\n",
       "InternetService      object\n",
       "OnlineSecurity       object\n",
       "OnlineBackup         object\n",
       "DeviceProtection     object\n",
       "TechSupport          object\n",
       "StreamingTV          object\n",
       "StreamingMovies      object\n",
       "Contract             object\n",
       "PaperlessBilling     object\n",
       "PaymentMethod        object\n",
       "MonthlyCharges      float64\n",
       "TotalCharges         object\n",
       "Churn                object\n",
       "dtype: object"
      ]
     },
     "execution_count": 8,
     "metadata": {},
     "output_type": "execute_result"
    }
   ],
   "source": [
    "df.dtypes"
   ]
  },
  {
   "cell_type": "markdown",
   "id": "1932dd24",
   "metadata": {},
   "source": [
    "We can observe most of the columns are of object string type columns"
   ]
  },
  {
   "cell_type": "code",
   "execution_count": 10,
   "id": "e9c3332e",
   "metadata": {},
   "outputs": [
    {
     "data": {
      "text/plain": [
       "customerID          7043\n",
       "gender                 2\n",
       "SeniorCitizen          2\n",
       "Partner                2\n",
       "Dependents             2\n",
       "tenure                73\n",
       "PhoneService           2\n",
       "MultipleLines          3\n",
       "InternetService        3\n",
       "OnlineSecurity         3\n",
       "OnlineBackup           3\n",
       "DeviceProtection       3\n",
       "TechSupport            3\n",
       "StreamingTV            3\n",
       "StreamingMovies        3\n",
       "Contract               3\n",
       "PaperlessBilling       2\n",
       "PaymentMethod          4\n",
       "MonthlyCharges      1585\n",
       "TotalCharges        6531\n",
       "Churn                  2\n",
       "dtype: int64"
      ]
     },
     "execution_count": 10,
     "metadata": {},
     "output_type": "execute_result"
    }
   ],
   "source": [
    "df.nunique()"
   ]
  },
  {
   "cell_type": "markdown",
   "id": "d7632fc4",
   "metadata": {},
   "source": [
    "We can observe that most of the columns are Catagorical columns with ony 2 or 3 classes in each columns. Only Monthly charges and Total charges seems to be in numerical format"
   ]
  },
  {
   "cell_type": "code",
   "execution_count": 11,
   "id": "f58b771e",
   "metadata": {},
   "outputs": [
    {
     "data": {
      "text/plain": [
       "No     5174\n",
       "Yes    1869\n",
       "Name: Churn, dtype: int64"
      ]
     },
     "execution_count": 11,
     "metadata": {},
     "output_type": "execute_result"
    }
   ],
   "source": [
    "df['Churn'].value_counts()"
   ]
  },
  {
   "cell_type": "markdown",
   "id": "74bd3416",
   "metadata": {},
   "source": [
    "\"Churn is the Target variable\" and we can see that there is imbalance. so we need to handle the imbalanced data by sampling methods. "
   ]
  },
  {
   "cell_type": "code",
   "execution_count": 12,
   "id": "ecd5da53",
   "metadata": {},
   "outputs": [
    {
     "data": {
      "text/plain": [
       "customerID          0\n",
       "gender              0\n",
       "SeniorCitizen       0\n",
       "Partner             0\n",
       "Dependents          0\n",
       "tenure              0\n",
       "PhoneService        0\n",
       "MultipleLines       0\n",
       "InternetService     0\n",
       "OnlineSecurity      0\n",
       "OnlineBackup        0\n",
       "DeviceProtection    0\n",
       "TechSupport         0\n",
       "StreamingTV         0\n",
       "StreamingMovies     0\n",
       "Contract            0\n",
       "PaperlessBilling    0\n",
       "PaymentMethod       0\n",
       "MonthlyCharges      0\n",
       "TotalCharges        0\n",
       "Churn               0\n",
       "dtype: int64"
      ]
     },
     "execution_count": 12,
     "metadata": {},
     "output_type": "execute_result"
    }
   ],
   "source": [
    "df.isnull().sum()"
   ]
  },
  {
   "cell_type": "markdown",
   "id": "0a503cea",
   "metadata": {},
   "source": [
    "Above shows no null value"
   ]
  },
  {
   "cell_type": "code",
   "execution_count": 13,
   "id": "b15c28f9",
   "metadata": {},
   "outputs": [
    {
     "data": {
      "text/plain": [
       "customerID          0\n",
       "gender              0\n",
       "SeniorCitizen       0\n",
       "Partner             0\n",
       "Dependents          0\n",
       "tenure              0\n",
       "PhoneService        0\n",
       "MultipleLines       0\n",
       "InternetService     0\n",
       "OnlineSecurity      0\n",
       "OnlineBackup        0\n",
       "DeviceProtection    0\n",
       "TechSupport         0\n",
       "StreamingTV         0\n",
       "StreamingMovies     0\n",
       "Contract            0\n",
       "PaperlessBilling    0\n",
       "PaymentMethod       0\n",
       "MonthlyCharges      0\n",
       "TotalCharges        0\n",
       "Churn               0\n",
       "dtype: int64"
      ]
     },
     "execution_count": 13,
     "metadata": {},
     "output_type": "execute_result"
    }
   ],
   "source": [
    "df.isna().sum()"
   ]
  },
  {
   "cell_type": "code",
   "execution_count": 14,
   "id": "5ca941a9",
   "metadata": {},
   "outputs": [],
   "source": [
    "df_eda=df.copy()"
   ]
  },
  {
   "cell_type": "code",
   "execution_count": 15,
   "id": "31f84450",
   "metadata": {},
   "outputs": [
    {
     "data": {
      "text/plain": [
       "customerID           0\n",
       "gender               0\n",
       "SeniorCitizen        0\n",
       "Partner              0\n",
       "Dependents           0\n",
       "tenure               0\n",
       "PhoneService         0\n",
       "MultipleLines        0\n",
       "InternetService      0\n",
       "OnlineSecurity       0\n",
       "OnlineBackup         0\n",
       "DeviceProtection     0\n",
       "TechSupport          0\n",
       "StreamingTV          0\n",
       "StreamingMovies      0\n",
       "Contract             0\n",
       "PaperlessBilling     0\n",
       "PaymentMethod        0\n",
       "MonthlyCharges       0\n",
       "TotalCharges        11\n",
       "Churn                0\n",
       "dtype: int64"
      ]
     },
     "execution_count": 15,
     "metadata": {},
     "output_type": "execute_result"
    }
   ],
   "source": [
    "df['TotalCharges']=pd.to_numeric(df['TotalCharges'],errors='coerce')\n",
    "#Parameter coerce helps in converting to NaN and the easy to convery NaN values with internal methods\n",
    "df.isnull().sum()"
   ]
  },
  {
   "cell_type": "markdown",
   "id": "f2425c68",
   "metadata": {},
   "source": [
    "Now again if we check, we have null values after converting to numeric datas. So lets remove the null values and proceed further for data processing and model building.#df['TotalCharges'].fillna(0,inplace=True) #df = df[df['TotalCharges'] !=0]#Remove all 0's "
   ]
  },
  {
   "cell_type": "code",
   "execution_count": 17,
   "id": "4e487300",
   "metadata": {},
   "outputs": [
    {
     "data": {
      "text/plain": [
       "<AxesSubplot:xlabel='TotalCharges', ylabel='Density'>"
      ]
     },
     "execution_count": 17,
     "metadata": {},
     "output_type": "execute_result"
    },
    {
     "data": {
      "image/png": "[encoded data removed]",
      "text/plain": [
       "<Figure size 432x288 with 1 Axes>"
      ]
     },
     "metadata": {
      "needs_background": "light"
     },
     "output_type": "display_data"
    }
   ],
   "source": [
    "sns.distplot(df['TotalCharges'])"
   ]
  },
  {
   "cell_type": "markdown",
   "id": "fc8d870b",
   "metadata": {},
   "source": [
    "We can observe that there is skewness so let replace null values with median. "
   ]
  },
  {
   "cell_type": "code",
   "execution_count": 18,
   "id": "c6a31279",
   "metadata": {},
   "outputs": [
    {
     "data": {
      "text/plain": [
       "1397.475"
      ]
     },
     "execution_count": 18,
     "metadata": {},
     "output_type": "execute_result"
    }
   ],
   "source": [
    "df['TotalCharges'].median()"
   ]
  },
  {
   "cell_type": "code",
   "execution_count": 20,
   "id": "887da716",
   "metadata": {},
   "outputs": [],
   "source": [
    "df['TotalCharges']=df['TotalCharges'].fillna((df['TotalCharges'].median()))"
   ]
  },
  {
   "cell_type": "code",
   "execution_count": 21,
   "id": "cff8ae33",
   "metadata": {},
   "outputs": [
    {
     "data": {
      "text/plain": [
       "0"
      ]
     },
     "execution_count": 21,
     "metadata": {},
     "output_type": "execute_result"
    }
   ],
   "source": [
    "df['TotalCharges'].isnull().sum()"
   ]
  },
  {
   "cell_type": "markdown",
   "id": "13ff60a8",
   "metadata": {},
   "source": [
    "We can see skewness. So lets not replace with mean as it is not normal distribution. so lets done with median. "
   ]
  },
  {
   "cell_type": "code",
   "execution_count": 22,
   "id": "781b32ab",
   "metadata": {},
   "outputs": [],
   "source": [
    "df=df.drop('customerID',axis=1)"
   ]
  },
  {
   "cell_type": "markdown",
   "id": "06d9939d",
   "metadata": {},
   "source": [
    "CustomerID is not required for Modeling as its not column that could really predict the churn. "
   ]
  },
  {
   "cell_type": "markdown",
   "id": "5a0551c2",
   "metadata": {},
   "source": [
    "# Ordinal Encoding & Label Encoding:"
   ]
  },
  {
   "cell_type": "code",
   "execution_count": 24,
   "id": "011c1bd9",
   "metadata": {},
   "outputs": [
    {
     "name": "stdout",
     "output_type": "stream",
     "text": [
      "gender : ['Female' 'Male']\n",
      "Partner : ['Yes' 'No']\n",
      "Dependents : ['No' 'Yes']\n",
      "PhoneService : ['No' 'Yes']\n",
      "MultipleLines : ['No phone service' 'No' 'Yes']\n",
      "InternetService : ['DSL' 'Fiber optic' 'No']\n",
      "OnlineSecurity : ['No' 'Yes' 'No internet service']\n",
      "OnlineBackup : ['Yes' 'No' 'No internet service']\n",
      "DeviceProtection : ['No' 'Yes' 'No internet service']\n",
      "TechSupport : ['No' 'Yes' 'No internet service']\n",
      "StreamingTV : ['No' 'Yes' 'No internet service']\n",
      "StreamingMovies : ['No' 'Yes' 'No internet service']\n",
      "Contract : ['Month-to-month' 'One year' 'Two year']\n",
      "PaperlessBilling : ['Yes' 'No']\n",
      "PaymentMethod : ['Electronic check' 'Mailed check' 'Bank transfer (automatic)'\n",
      " 'Credit card (automatic)']\n",
      "Churn : ['No' 'Yes']\n"
     ]
    }
   ],
   "source": [
    "obj_df=df.select_dtypes(include='O').columns\n",
    "for col in obj_df:\n",
    "    print(col,':',df[col].unique())"
   ]
  },
  {
   "cell_type": "markdown",
   "id": "b0a7c0f8",
   "metadata": {},
   "source": [
    "Almost all the columns are binary type with Yes or No Option and Male and Female(2 types of classes only) We can also observe\n",
    "that the columns like 'MultipleLines','onlinesecurity','onlinebackup','Techsupport','StreamingTV','Streamingmovies' which could\n",
    "be changed as Yes or No only as \"No internet service\" and \"No internet service\" and 'No' doesnt mean much difference. Let's change so that we get a cleaner dataset for better analysis. \""
   ]
  },
  {
   "cell_type": "code",
   "execution_count": 25,
   "id": "48bc856d",
   "metadata": {},
   "outputs": [],
   "source": [
    "df['MultipleLines']=df['MultipleLines'].replace('No Phone Service', 'No')"
   ]
  },
  {
   "cell_type": "code",
   "execution_count": 27,
   "id": "cce1a7f2",
   "metadata": {},
   "outputs": [],
   "source": [
    "df[['OnlineSecurity', 'OnlineBackup', 'DeviceProtection','TechSupport', 'StreamingTV', 'StreamingMovies']] = df[['OnlineSecurity', 'OnlineBackup', 'DeviceProtection','TechSupport', 'StreamingTV', 'StreamingMovies']].replace('No internet service', 'No')"
   ]
  },
  {
   "cell_type": "code",
   "execution_count": 28,
   "id": "e1b33452",
   "metadata": {},
   "outputs": [
    {
     "name": "stdout",
     "output_type": "stream",
     "text": [
      "gender : ['Female' 'Male']\n",
      "Partner : ['Yes' 'No']\n",
      "Dependents : ['No' 'Yes']\n",
      "PhoneService : ['No' 'Yes']\n",
      "MultipleLines : ['No phone service' 'No' 'Yes']\n",
      "InternetService : ['DSL' 'Fiber optic' 'No']\n",
      "OnlineSecurity : ['No' 'Yes']\n",
      "OnlineBackup : ['Yes' 'No']\n",
      "DeviceProtection : ['No' 'Yes']\n",
      "TechSupport : ['No' 'Yes']\n",
      "StreamingTV : ['No' 'Yes']\n",
      "StreamingMovies : ['No' 'Yes']\n",
      "Contract : ['Month-to-month' 'One year' 'Two year']\n",
      "PaperlessBilling : ['Yes' 'No']\n",
      "PaymentMethod : ['Electronic check' 'Mailed check' 'Bank transfer (automatic)'\n",
      " 'Credit card (automatic)']\n",
      "Churn : ['No' 'Yes']\n"
     ]
    }
   ],
   "source": [
    "for col in obj_df:\n",
    "    print(col,':',df[col].unique())"
   ]
  },
  {
   "cell_type": "markdown",
   "id": "39765e41",
   "metadata": {},
   "source": [
    "Ordinal data: Contract,InternetService Nominal data: All other cloumns with yes,no and Male,Female So lets try to do encoding based on different types of datas. "
   ]
  },
  {
   "cell_type": "code",
   "execution_count": 29,
   "id": "9a2b311b",
   "metadata": {},
   "outputs": [
    {
     "data": {
      "text/plain": [
       "array(['Month-to-month', 'One year', 'Two year'], dtype=object)"
      ]
     },
     "execution_count": 29,
     "metadata": {},
     "output_type": "execute_result"
    }
   ],
   "source": [
    "df['Contract'].unique()"
   ]
  },
  {
   "cell_type": "code",
   "execution_count": 30,
   "id": "1a1fb73a",
   "metadata": {},
   "outputs": [],
   "source": [
    "contract_correct_order= ['Month-to-month','One year','Two year']"
   ]
  },
  {
   "cell_type": "code",
   "execution_count": 31,
   "id": "a3a37ca0",
   "metadata": {},
   "outputs": [],
   "source": [
    "from sklearn.preprocessing import OrdinalEncoder\n",
    "ord=OrdinalEncoder(categories=[contract_correct_order])"
   ]
  },
  {
   "cell_type": "code",
   "execution_count": 32,
   "id": "697bfb73",
   "metadata": {},
   "outputs": [
    {
     "data": {
      "text/plain": [
       "OrdinalEncoder(categories=[['Month-to-month', 'One year', 'Two year']])"
      ]
     },
     "execution_count": 32,
     "metadata": {},
     "output_type": "execute_result"
    }
   ],
   "source": [
    "ord.fit(df[['Contract']])"
   ]
  },
  {
   "cell_type": "code",
   "execution_count": 33,
   "id": "e0c4cdcc",
   "metadata": {},
   "outputs": [],
   "source": [
    "df['Contract']=pd.DataFrame(ord.transform(df[['Contract']]))"
   ]
  },
  {
   "cell_type": "code",
   "execution_count": 34,
   "id": "64243273",
   "metadata": {},
   "outputs": [
    {
     "data": {
      "text/html": [
       "<div>\n",
       "<style scoped>\n",
       "    .dataframe tbody tr th:only-of-type {\n",
       "        vertical-align: middle;\n",
       "    }\n",
       "\n",
       "    .dataframe tbody tr th {\n",
       "        vertical-align: top;\n",
       "    }\n",
       "\n",
       "    .dataframe thead th {\n",
       "        text-align: right;\n",
       "    }\n",
       "</style>\n",
       "<table border=\"1\" class=\"dataframe\">\n",
       "  <thead>\n",
       "    <tr style=\"text-align: right;\">\n",
       "      <th></th>\n",
       "      <th>gender</th>\n",
       "      <th>SeniorCitizen</th>\n",
       "      <th>Partner</th>\n",
       "      <th>Dependents</th>\n",
       "      <th>tenure</th>\n",
       "      <th>PhoneService</th>\n",
       "      <th>MultipleLines</th>\n",
       "      <th>InternetService</th>\n",
       "      <th>OnlineSecurity</th>\n",
       "      <th>OnlineBackup</th>\n",
       "      <th>DeviceProtection</th>\n",
       "      <th>TechSupport</th>\n",
       "      <th>StreamingTV</th>\n",
       "      <th>StreamingMovies</th>\n",
       "      <th>Contract</th>\n",
       "      <th>PaperlessBilling</th>\n",
       "      <th>PaymentMethod</th>\n",
       "      <th>MonthlyCharges</th>\n",
       "      <th>TotalCharges</th>\n",
       "      <th>Churn</th>\n",
       "    </tr>\n",
       "  </thead>\n",
       "  <tbody>\n",
       "    <tr>\n",
       "      <th>0</th>\n",
       "      <td>Female</td>\n",
       "      <td>0</td>\n",
       "      <td>Yes</td>\n",
       "      <td>No</td>\n",
       "      <td>1</td>\n",
       "      <td>No</td>\n",
       "      <td>No phone service</td>\n",
       "      <td>DSL</td>\n",
       "      <td>No</td>\n",
       "      <td>Yes</td>\n",
       "      <td>No</td>\n",
       "      <td>No</td>\n",
       "      <td>No</td>\n",
       "      <td>No</td>\n",
       "      <td>0.0</td>\n",
       "      <td>Yes</td>\n",
       "      <td>Electronic check</td>\n",
       "      <td>29.85</td>\n",
       "      <td>29.85</td>\n",
       "      <td>No</td>\n",
       "    </tr>\n",
       "    <tr>\n",
       "      <th>1</th>\n",
       "      <td>Male</td>\n",
       "      <td>0</td>\n",
       "      <td>No</td>\n",
       "      <td>No</td>\n",
       "      <td>34</td>\n",
       "      <td>Yes</td>\n",
       "      <td>No</td>\n",
       "      <td>DSL</td>\n",
       "      <td>Yes</td>\n",
       "      <td>No</td>\n",
       "      <td>Yes</td>\n",
       "      <td>No</td>\n",
       "      <td>No</td>\n",
       "      <td>No</td>\n",
       "      <td>1.0</td>\n",
       "      <td>No</td>\n",
       "      <td>Mailed check</td>\n",
       "      <td>56.95</td>\n",
       "      <td>1889.50</td>\n",
       "      <td>No</td>\n",
       "    </tr>\n",
       "    <tr>\n",
       "      <th>2</th>\n",
       "      <td>Male</td>\n",
       "      <td>0</td>\n",
       "      <td>No</td>\n",
       "      <td>No</td>\n",
       "      <td>2</td>\n",
       "      <td>Yes</td>\n",
       "      <td>No</td>\n",
       "      <td>DSL</td>\n",
       "      <td>Yes</td>\n",
       "      <td>Yes</td>\n",
       "      <td>No</td>\n",
       "      <td>No</td>\n",
       "      <td>No</td>\n",
       "      <td>No</td>\n",
       "      <td>0.0</td>\n",
       "      <td>Yes</td>\n",
       "      <td>Mailed check</td>\n",
       "      <td>53.85</td>\n",
       "      <td>108.15</td>\n",
       "      <td>Yes</td>\n",
       "    </tr>\n",
       "    <tr>\n",
       "      <th>3</th>\n",
       "      <td>Male</td>\n",
       "      <td>0</td>\n",
       "      <td>No</td>\n",
       "      <td>No</td>\n",
       "      <td>45</td>\n",
       "      <td>No</td>\n",
       "      <td>No phone service</td>\n",
       "      <td>DSL</td>\n",
       "      <td>Yes</td>\n",
       "      <td>No</td>\n",
       "      <td>Yes</td>\n",
       "      <td>Yes</td>\n",
       "      <td>No</td>\n",
       "      <td>No</td>\n",
       "      <td>1.0</td>\n",
       "      <td>No</td>\n",
       "      <td>Bank transfer (automatic)</td>\n",
       "      <td>42.30</td>\n",
       "      <td>1840.75</td>\n",
       "      <td>No</td>\n",
       "    </tr>\n",
       "    <tr>\n",
       "      <th>4</th>\n",
       "      <td>Female</td>\n",
       "      <td>0</td>\n",
       "      <td>No</td>\n",
       "      <td>No</td>\n",
       "      <td>2</td>\n",
       "      <td>Yes</td>\n",
       "      <td>No</td>\n",
       "      <td>Fiber optic</td>\n",
       "      <td>No</td>\n",
       "      <td>No</td>\n",
       "      <td>No</td>\n",
       "      <td>No</td>\n",
       "      <td>No</td>\n",
       "      <td>No</td>\n",
       "      <td>0.0</td>\n",
       "      <td>Yes</td>\n",
       "      <td>Electronic check</td>\n",
       "      <td>70.70</td>\n",
       "      <td>151.65</td>\n",
       "      <td>Yes</td>\n",
       "    </tr>\n",
       "  </tbody>\n",
       "</table>\n",
       "</div>"
      ],
      "text/plain": [
       "   gender  SeniorCitizen Partner Dependents  tenure PhoneService  \\\n",
       "0  Female              0     Yes         No       1           No   \n",
       "1    Male              0      No         No      34          Yes   \n",
       "2    Male              0      No         No       2          Yes   \n",
       "3    Male              0      No         No      45           No   \n",
       "4  Female              0      No         No       2          Yes   \n",
       "\n",
       "      MultipleLines InternetService OnlineSecurity OnlineBackup  \\\n",
       "0  No phone service             DSL             No          Yes   \n",
       "1                No             DSL            Yes           No   \n",
       "2                No             DSL            Yes          Yes   \n",
       "3  No phone service             DSL            Yes           No   \n",
       "4                No     Fiber optic             No           No   \n",
       "\n",
       "  DeviceProtection TechSupport StreamingTV StreamingMovies  Contract  \\\n",
       "0               No          No          No              No       0.0   \n",
       "1              Yes          No          No              No       1.0   \n",
       "2               No          No          No              No       0.0   \n",
       "3              Yes         Yes          No              No       1.0   \n",
       "4               No          No          No              No       0.0   \n",
       "\n",
       "  PaperlessBilling              PaymentMethod  MonthlyCharges  TotalCharges  \\\n",
       "0              Yes           Electronic check           29.85         29.85   \n",
       "1               No               Mailed check           56.95       1889.50   \n",
       "2              Yes               Mailed check           53.85        108.15   \n",
       "3               No  Bank transfer (automatic)           42.30       1840.75   \n",
       "4              Yes           Electronic check           70.70        151.65   \n",
       "\n",
       "  Churn  \n",
       "0    No  \n",
       "1    No  \n",
       "2   Yes  \n",
       "3    No  \n",
       "4   Yes  "
      ]
     },
     "execution_count": 34,
     "metadata": {},
     "output_type": "execute_result"
    }
   ],
   "source": [
    "df.head()\n",
    "#pd.set_option('display.max_rows',None)"
   ]
  },
  {
   "cell_type": "markdown",
   "id": "14185a07",
   "metadata": {},
   "source": [
    "We can notice that the Ordinal column Contract has been changed and encoded in respective order. Similarly we can do for othet column \"InternetService\" "
   ]
  },
  {
   "cell_type": "code",
   "execution_count": 35,
   "id": "1d947723",
   "metadata": {},
   "outputs": [
    {
     "data": {
      "text/plain": [
       "array(['DSL', 'Fiber optic', 'No'], dtype=object)"
      ]
     },
     "execution_count": 35,
     "metadata": {},
     "output_type": "execute_result"
    }
   ],
   "source": [
    "df['InternetService'].unique()"
   ]
  },
  {
   "cell_type": "code",
   "execution_count": 36,
   "id": "0712407f",
   "metadata": {},
   "outputs": [],
   "source": [
    "i_service_correct_order= ['No','DSL','Fiber optic']"
   ]
  },
  {
   "cell_type": "code",
   "execution_count": 37,
   "id": "2c179bd5",
   "metadata": {},
   "outputs": [],
   "source": [
    "ord1 =OrdinalEncoder(categories=[i_service_correct_order])"
   ]
  },
  {
   "cell_type": "code",
   "execution_count": 38,
   "id": "c0d21818",
   "metadata": {},
   "outputs": [
    {
     "data": {
      "text/plain": [
       "OrdinalEncoder(categories=[['No', 'DSL', 'Fiber optic']])"
      ]
     },
     "execution_count": 38,
     "metadata": {},
     "output_type": "execute_result"
    }
   ],
   "source": [
    "ord1.fit(df[['InternetService']])"
   ]
  },
  {
   "cell_type": "code",
   "execution_count": 39,
   "id": "6b081cb6",
   "metadata": {},
   "outputs": [],
   "source": [
    "df['InternetService']=pd.DataFrame(ord1.transform(df[['InternetService']]))"
   ]
  },
  {
   "cell_type": "code",
   "execution_count": 40,
   "id": "d9dea6df",
   "metadata": {},
   "outputs": [
    {
     "data": {
      "text/html": [
       "<div>\n",
       "<style scoped>\n",
       "    .dataframe tbody tr th:only-of-type {\n",
       "        vertical-align: middle;\n",
       "    }\n",
       "\n",
       "    .dataframe tbody tr th {\n",
       "        vertical-align: top;\n",
       "    }\n",
       "\n",
       "    .dataframe thead th {\n",
       "        text-align: right;\n",
       "    }\n",
       "</style>\n",
       "<table border=\"1\" class=\"dataframe\">\n",
       "  <thead>\n",
       "    <tr style=\"text-align: right;\">\n",
       "      <th></th>\n",
       "      <th>gender</th>\n",
       "      <th>SeniorCitizen</th>\n",
       "      <th>Partner</th>\n",
       "      <th>Dependents</th>\n",
       "      <th>tenure</th>\n",
       "      <th>PhoneService</th>\n",
       "      <th>MultipleLines</th>\n",
       "      <th>InternetService</th>\n",
       "      <th>OnlineSecurity</th>\n",
       "      <th>OnlineBackup</th>\n",
       "      <th>DeviceProtection</th>\n",
       "      <th>TechSupport</th>\n",
       "      <th>StreamingTV</th>\n",
       "      <th>StreamingMovies</th>\n",
       "      <th>Contract</th>\n",
       "      <th>PaperlessBilling</th>\n",
       "      <th>PaymentMethod</th>\n",
       "      <th>MonthlyCharges</th>\n",
       "      <th>TotalCharges</th>\n",
       "      <th>Churn</th>\n",
       "    </tr>\n",
       "  </thead>\n",
       "  <tbody>\n",
       "    <tr>\n",
       "      <th>0</th>\n",
       "      <td>Female</td>\n",
       "      <td>0</td>\n",
       "      <td>Yes</td>\n",
       "      <td>No</td>\n",
       "      <td>1</td>\n",
       "      <td>No</td>\n",
       "      <td>No phone service</td>\n",
       "      <td>1.0</td>\n",
       "      <td>No</td>\n",
       "      <td>Yes</td>\n",
       "      <td>No</td>\n",
       "      <td>No</td>\n",
       "      <td>No</td>\n",
       "      <td>No</td>\n",
       "      <td>0.0</td>\n",
       "      <td>Yes</td>\n",
       "      <td>Electronic check</td>\n",
       "      <td>29.85</td>\n",
       "      <td>29.85</td>\n",
       "      <td>No</td>\n",
       "    </tr>\n",
       "    <tr>\n",
       "      <th>1</th>\n",
       "      <td>Male</td>\n",
       "      <td>0</td>\n",
       "      <td>No</td>\n",
       "      <td>No</td>\n",
       "      <td>34</td>\n",
       "      <td>Yes</td>\n",
       "      <td>No</td>\n",
       "      <td>1.0</td>\n",
       "      <td>Yes</td>\n",
       "      <td>No</td>\n",
       "      <td>Yes</td>\n",
       "      <td>No</td>\n",
       "      <td>No</td>\n",
       "      <td>No</td>\n",
       "      <td>1.0</td>\n",
       "      <td>No</td>\n",
       "      <td>Mailed check</td>\n",
       "      <td>56.95</td>\n",
       "      <td>1889.50</td>\n",
       "      <td>No</td>\n",
       "    </tr>\n",
       "    <tr>\n",
       "      <th>2</th>\n",
       "      <td>Male</td>\n",
       "      <td>0</td>\n",
       "      <td>No</td>\n",
       "      <td>No</td>\n",
       "      <td>2</td>\n",
       "      <td>Yes</td>\n",
       "      <td>No</td>\n",
       "      <td>1.0</td>\n",
       "      <td>Yes</td>\n",
       "      <td>Yes</td>\n",
       "      <td>No</td>\n",
       "      <td>No</td>\n",
       "      <td>No</td>\n",
       "      <td>No</td>\n",
       "      <td>0.0</td>\n",
       "      <td>Yes</td>\n",
       "      <td>Mailed check</td>\n",
       "      <td>53.85</td>\n",
       "      <td>108.15</td>\n",
       "      <td>Yes</td>\n",
       "    </tr>\n",
       "    <tr>\n",
       "      <th>3</th>\n",
       "      <td>Male</td>\n",
       "      <td>0</td>\n",
       "      <td>No</td>\n",
       "      <td>No</td>\n",
       "      <td>45</td>\n",
       "      <td>No</td>\n",
       "      <td>No phone service</td>\n",
       "      <td>1.0</td>\n",
       "      <td>Yes</td>\n",
       "      <td>No</td>\n",
       "      <td>Yes</td>\n",
       "      <td>Yes</td>\n",
       "      <td>No</td>\n",
       "      <td>No</td>\n",
       "      <td>1.0</td>\n",
       "      <td>No</td>\n",
       "      <td>Bank transfer (automatic)</td>\n",
       "      <td>42.30</td>\n",
       "      <td>1840.75</td>\n",
       "      <td>No</td>\n",
       "    </tr>\n",
       "    <tr>\n",
       "      <th>4</th>\n",
       "      <td>Female</td>\n",
       "      <td>0</td>\n",
       "      <td>No</td>\n",
       "      <td>No</td>\n",
       "      <td>2</td>\n",
       "      <td>Yes</td>\n",
       "      <td>No</td>\n",
       "      <td>2.0</td>\n",
       "      <td>No</td>\n",
       "      <td>No</td>\n",
       "      <td>No</td>\n",
       "      <td>No</td>\n",
       "      <td>No</td>\n",
       "      <td>No</td>\n",
       "      <td>0.0</td>\n",
       "      <td>Yes</td>\n",
       "      <td>Electronic check</td>\n",
       "      <td>70.70</td>\n",
       "      <td>151.65</td>\n",
       "      <td>Yes</td>\n",
       "    </tr>\n",
       "  </tbody>\n",
       "</table>\n",
       "</div>"
      ],
      "text/plain": [
       "   gender  SeniorCitizen Partner Dependents  tenure PhoneService  \\\n",
       "0  Female              0     Yes         No       1           No   \n",
       "1    Male              0      No         No      34          Yes   \n",
       "2    Male              0      No         No       2          Yes   \n",
       "3    Male              0      No         No      45           No   \n",
       "4  Female              0      No         No       2          Yes   \n",
       "\n",
       "      MultipleLines  InternetService OnlineSecurity OnlineBackup  \\\n",
       "0  No phone service              1.0             No          Yes   \n",
       "1                No              1.0            Yes           No   \n",
       "2                No              1.0            Yes          Yes   \n",
       "3  No phone service              1.0            Yes           No   \n",
       "4                No              2.0             No           No   \n",
       "\n",
       "  DeviceProtection TechSupport StreamingTV StreamingMovies  Contract  \\\n",
       "0               No          No          No              No       0.0   \n",
       "1              Yes          No          No              No       1.0   \n",
       "2               No          No          No              No       0.0   \n",
       "3              Yes         Yes          No              No       1.0   \n",
       "4               No          No          No              No       0.0   \n",
       "\n",
       "  PaperlessBilling              PaymentMethod  MonthlyCharges  TotalCharges  \\\n",
       "0              Yes           Electronic check           29.85         29.85   \n",
       "1               No               Mailed check           56.95       1889.50   \n",
       "2              Yes               Mailed check           53.85        108.15   \n",
       "3               No  Bank transfer (automatic)           42.30       1840.75   \n",
       "4              Yes           Electronic check           70.70        151.65   \n",
       "\n",
       "  Churn  \n",
       "0    No  \n",
       "1    No  \n",
       "2   Yes  \n",
       "3    No  \n",
       "4   Yes  "
      ]
     },
     "execution_count": 40,
     "metadata": {},
     "output_type": "execute_result"
    }
   ],
   "source": [
    "df.head()"
   ]
  },
  {
   "cell_type": "markdown",
   "id": "2efe74a7",
   "metadata": {},
   "source": [
    "InternetService column also have been encoded. From below code we can see that \"InternetService\" and \"Contract\" have been changed to float datatypes.good to proceed for model buildings. Now lets encode all other Nominal columns using Label Encoder. "
   ]
  },
  {
   "cell_type": "code",
   "execution_count": 41,
   "id": "d9fd8deb",
   "metadata": {},
   "outputs": [
    {
     "data": {
      "text/plain": [
       "Index(['gender', 'Partner', 'Dependents', 'PhoneService', 'MultipleLines',\n",
       "       'OnlineSecurity', 'OnlineBackup', 'DeviceProtection', 'TechSupport',\n",
       "       'StreamingTV', 'StreamingMovies', 'PaperlessBilling', 'PaymentMethod',\n",
       "       'Churn'],\n",
       "      dtype='object')"
      ]
     },
     "execution_count": 41,
     "metadata": {},
     "output_type": "execute_result"
    }
   ],
   "source": [
    "obj_df = df.select_dtypes(include='O').columns\n",
    "obj_df"
   ]
  },
  {
   "cell_type": "code",
   "execution_count": 42,
   "id": "d2e864c2",
   "metadata": {},
   "outputs": [
    {
     "data": {
      "text/html": [
       "<div>\n",
       "<style scoped>\n",
       "    .dataframe tbody tr th:only-of-type {\n",
       "        vertical-align: middle;\n",
       "    }\n",
       "\n",
       "    .dataframe tbody tr th {\n",
       "        vertical-align: top;\n",
       "    }\n",
       "\n",
       "    .dataframe thead th {\n",
       "        text-align: right;\n",
       "    }\n",
       "</style>\n",
       "<table border=\"1\" class=\"dataframe\">\n",
       "  <thead>\n",
       "    <tr style=\"text-align: right;\">\n",
       "      <th></th>\n",
       "      <th>gender</th>\n",
       "      <th>SeniorCitizen</th>\n",
       "      <th>Partner</th>\n",
       "      <th>Dependents</th>\n",
       "      <th>tenure</th>\n",
       "      <th>PhoneService</th>\n",
       "      <th>MultipleLines</th>\n",
       "      <th>InternetService</th>\n",
       "      <th>OnlineSecurity</th>\n",
       "      <th>OnlineBackup</th>\n",
       "      <th>DeviceProtection</th>\n",
       "      <th>TechSupport</th>\n",
       "      <th>StreamingTV</th>\n",
       "      <th>StreamingMovies</th>\n",
       "      <th>Contract</th>\n",
       "      <th>PaperlessBilling</th>\n",
       "      <th>PaymentMethod</th>\n",
       "      <th>MonthlyCharges</th>\n",
       "      <th>TotalCharges</th>\n",
       "      <th>Churn</th>\n",
       "    </tr>\n",
       "  </thead>\n",
       "  <tbody>\n",
       "    <tr>\n",
       "      <th>0</th>\n",
       "      <td>0</td>\n",
       "      <td>0</td>\n",
       "      <td>1</td>\n",
       "      <td>0</td>\n",
       "      <td>1</td>\n",
       "      <td>0</td>\n",
       "      <td>1</td>\n",
       "      <td>1.0</td>\n",
       "      <td>0</td>\n",
       "      <td>1</td>\n",
       "      <td>0</td>\n",
       "      <td>0</td>\n",
       "      <td>0</td>\n",
       "      <td>0</td>\n",
       "      <td>0.0</td>\n",
       "      <td>1</td>\n",
       "      <td>2</td>\n",
       "      <td>29.85</td>\n",
       "      <td>29.85</td>\n",
       "      <td>0</td>\n",
       "    </tr>\n",
       "    <tr>\n",
       "      <th>1</th>\n",
       "      <td>1</td>\n",
       "      <td>0</td>\n",
       "      <td>0</td>\n",
       "      <td>0</td>\n",
       "      <td>34</td>\n",
       "      <td>1</td>\n",
       "      <td>0</td>\n",
       "      <td>1.0</td>\n",
       "      <td>1</td>\n",
       "      <td>0</td>\n",
       "      <td>1</td>\n",
       "      <td>0</td>\n",
       "      <td>0</td>\n",
       "      <td>0</td>\n",
       "      <td>1.0</td>\n",
       "      <td>0</td>\n",
       "      <td>3</td>\n",
       "      <td>56.95</td>\n",
       "      <td>1889.50</td>\n",
       "      <td>0</td>\n",
       "    </tr>\n",
       "    <tr>\n",
       "      <th>2</th>\n",
       "      <td>1</td>\n",
       "      <td>0</td>\n",
       "      <td>0</td>\n",
       "      <td>0</td>\n",
       "      <td>2</td>\n",
       "      <td>1</td>\n",
       "      <td>0</td>\n",
       "      <td>1.0</td>\n",
       "      <td>1</td>\n",
       "      <td>1</td>\n",
       "      <td>0</td>\n",
       "      <td>0</td>\n",
       "      <td>0</td>\n",
       "      <td>0</td>\n",
       "      <td>0.0</td>\n",
       "      <td>1</td>\n",
       "      <td>3</td>\n",
       "      <td>53.85</td>\n",
       "      <td>108.15</td>\n",
       "      <td>1</td>\n",
       "    </tr>\n",
       "    <tr>\n",
       "      <th>3</th>\n",
       "      <td>1</td>\n",
       "      <td>0</td>\n",
       "      <td>0</td>\n",
       "      <td>0</td>\n",
       "      <td>45</td>\n",
       "      <td>0</td>\n",
       "      <td>1</td>\n",
       "      <td>1.0</td>\n",
       "      <td>1</td>\n",
       "      <td>0</td>\n",
       "      <td>1</td>\n",
       "      <td>1</td>\n",
       "      <td>0</td>\n",
       "      <td>0</td>\n",
       "      <td>1.0</td>\n",
       "      <td>0</td>\n",
       "      <td>0</td>\n",
       "      <td>42.30</td>\n",
       "      <td>1840.75</td>\n",
       "      <td>0</td>\n",
       "    </tr>\n",
       "    <tr>\n",
       "      <th>4</th>\n",
       "      <td>0</td>\n",
       "      <td>0</td>\n",
       "      <td>0</td>\n",
       "      <td>0</td>\n",
       "      <td>2</td>\n",
       "      <td>1</td>\n",
       "      <td>0</td>\n",
       "      <td>2.0</td>\n",
       "      <td>0</td>\n",
       "      <td>0</td>\n",
       "      <td>0</td>\n",
       "      <td>0</td>\n",
       "      <td>0</td>\n",
       "      <td>0</td>\n",
       "      <td>0.0</td>\n",
       "      <td>1</td>\n",
       "      <td>2</td>\n",
       "      <td>70.70</td>\n",
       "      <td>151.65</td>\n",
       "      <td>1</td>\n",
       "    </tr>\n",
       "    <tr>\n",
       "      <th>5</th>\n",
       "      <td>0</td>\n",
       "      <td>0</td>\n",
       "      <td>0</td>\n",
       "      <td>0</td>\n",
       "      <td>8</td>\n",
       "      <td>1</td>\n",
       "      <td>2</td>\n",
       "      <td>2.0</td>\n",
       "      <td>0</td>\n",
       "      <td>0</td>\n",
       "      <td>1</td>\n",
       "      <td>0</td>\n",
       "      <td>1</td>\n",
       "      <td>1</td>\n",
       "      <td>0.0</td>\n",
       "      <td>1</td>\n",
       "      <td>2</td>\n",
       "      <td>99.65</td>\n",
       "      <td>820.50</td>\n",
       "      <td>1</td>\n",
       "    </tr>\n",
       "    <tr>\n",
       "      <th>6</th>\n",
       "      <td>1</td>\n",
       "      <td>0</td>\n",
       "      <td>0</td>\n",
       "      <td>1</td>\n",
       "      <td>22</td>\n",
       "      <td>1</td>\n",
       "      <td>2</td>\n",
       "      <td>2.0</td>\n",
       "      <td>0</td>\n",
       "      <td>1</td>\n",
       "      <td>0</td>\n",
       "      <td>0</td>\n",
       "      <td>1</td>\n",
       "      <td>0</td>\n",
       "      <td>0.0</td>\n",
       "      <td>1</td>\n",
       "      <td>1</td>\n",
       "      <td>89.10</td>\n",
       "      <td>1949.40</td>\n",
       "      <td>0</td>\n",
       "    </tr>\n",
       "    <tr>\n",
       "      <th>7</th>\n",
       "      <td>0</td>\n",
       "      <td>0</td>\n",
       "      <td>0</td>\n",
       "      <td>0</td>\n",
       "      <td>10</td>\n",
       "      <td>0</td>\n",
       "      <td>1</td>\n",
       "      <td>1.0</td>\n",
       "      <td>1</td>\n",
       "      <td>0</td>\n",
       "      <td>0</td>\n",
       "      <td>0</td>\n",
       "      <td>0</td>\n",
       "      <td>0</td>\n",
       "      <td>0.0</td>\n",
       "      <td>0</td>\n",
       "      <td>3</td>\n",
       "      <td>29.75</td>\n",
       "      <td>301.90</td>\n",
       "      <td>0</td>\n",
       "    </tr>\n",
       "    <tr>\n",
       "      <th>8</th>\n",
       "      <td>0</td>\n",
       "      <td>0</td>\n",
       "      <td>1</td>\n",
       "      <td>0</td>\n",
       "      <td>28</td>\n",
       "      <td>1</td>\n",
       "      <td>2</td>\n",
       "      <td>2.0</td>\n",
       "      <td>0</td>\n",
       "      <td>0</td>\n",
       "      <td>1</td>\n",
       "      <td>1</td>\n",
       "      <td>1</td>\n",
       "      <td>1</td>\n",
       "      <td>0.0</td>\n",
       "      <td>1</td>\n",
       "      <td>2</td>\n",
       "      <td>104.80</td>\n",
       "      <td>3046.05</td>\n",
       "      <td>1</td>\n",
       "    </tr>\n",
       "    <tr>\n",
       "      <th>9</th>\n",
       "      <td>1</td>\n",
       "      <td>0</td>\n",
       "      <td>0</td>\n",
       "      <td>1</td>\n",
       "      <td>62</td>\n",
       "      <td>1</td>\n",
       "      <td>0</td>\n",
       "      <td>1.0</td>\n",
       "      <td>1</td>\n",
       "      <td>1</td>\n",
       "      <td>0</td>\n",
       "      <td>0</td>\n",
       "      <td>0</td>\n",
       "      <td>0</td>\n",
       "      <td>1.0</td>\n",
       "      <td>0</td>\n",
       "      <td>0</td>\n",
       "      <td>56.15</td>\n",
       "      <td>3487.95</td>\n",
       "      <td>0</td>\n",
       "    </tr>\n",
       "  </tbody>\n",
       "</table>\n",
       "</div>"
      ],
      "text/plain": [
       "   gender  SeniorCitizen  Partner  Dependents  tenure  PhoneService  \\\n",
       "0       0              0        1           0       1             0   \n",
       "1       1              0        0           0      34             1   \n",
       "2       1              0        0           0       2             1   \n",
       "3       1              0        0           0      45             0   \n",
       "4       0              0        0           0       2             1   \n",
       "5       0              0        0           0       8             1   \n",
       "6       1              0        0           1      22             1   \n",
       "7       0              0        0           0      10             0   \n",
       "8       0              0        1           0      28             1   \n",
       "9       1              0        0           1      62             1   \n",
       "\n",
       "   MultipleLines  InternetService  OnlineSecurity  OnlineBackup  \\\n",
       "0              1              1.0               0             1   \n",
       "1              0              1.0               1             0   \n",
       "2              0              1.0               1             1   \n",
       "3              1              1.0               1             0   \n",
       "4              0              2.0               0             0   \n",
       "5              2              2.0               0             0   \n",
       "6              2              2.0               0             1   \n",
       "7              1              1.0               1             0   \n",
       "8              2              2.0               0             0   \n",
       "9              0              1.0               1             1   \n",
       "\n",
       "   DeviceProtection  TechSupport  StreamingTV  StreamingMovies  Contract  \\\n",
       "0                 0            0            0                0       0.0   \n",
       "1                 1            0            0                0       1.0   \n",
       "2                 0            0            0                0       0.0   \n",
       "3                 1            1            0                0       1.0   \n",
       "4                 0            0            0                0       0.0   \n",
       "5                 1            0            1                1       0.0   \n",
       "6                 0            0            1                0       0.0   \n",
       "7                 0            0            0                0       0.0   \n",
       "8                 1            1            1                1       0.0   \n",
       "9                 0            0            0                0       1.0   \n",
       "\n",
       "   PaperlessBilling  PaymentMethod  MonthlyCharges  TotalCharges  Churn  \n",
       "0                 1              2           29.85         29.85      0  \n",
       "1                 0              3           56.95       1889.50      0  \n",
       "2                 1              3           53.85        108.15      1  \n",
       "3                 0              0           42.30       1840.75      0  \n",
       "4                 1              2           70.70        151.65      1  \n",
       "5                 1              2           99.65        820.50      1  \n",
       "6                 1              1           89.10       1949.40      0  \n",
       "7                 0              3           29.75        301.90      0  \n",
       "8                 1              2          104.80       3046.05      1  \n",
       "9                 0              0           56.15       3487.95      0  "
      ]
     },
     "execution_count": 42,
     "metadata": {},
     "output_type": "execute_result"
    }
   ],
   "source": [
    "LE=LabelEncoder()\n",
    "for column in obj_df:\n",
    "    df.loc[:,column] = LE.fit_transform(df.loc[:,column])\n",
    "df.head(10)"
   ]
  },
  {
   "cell_type": "code",
   "execution_count": 43,
   "id": "bc8b7e1d",
   "metadata": {},
   "outputs": [
    {
     "data": {
      "text/plain": [
       "gender              0\n",
       "SeniorCitizen       0\n",
       "Partner             0\n",
       "Dependents          0\n",
       "tenure              0\n",
       "PhoneService        0\n",
       "MultipleLines       0\n",
       "InternetService     0\n",
       "OnlineSecurity      0\n",
       "OnlineBackup        0\n",
       "DeviceProtection    0\n",
       "TechSupport         0\n",
       "StreamingTV         0\n",
       "StreamingMovies     0\n",
       "Contract            0\n",
       "PaperlessBilling    0\n",
       "PaymentMethod       0\n",
       "MonthlyCharges      0\n",
       "TotalCharges        0\n",
       "Churn               0\n",
       "dtype: int64"
      ]
     },
     "execution_count": 43,
     "metadata": {},
     "output_type": "execute_result"
    }
   ],
   "source": [
    "df.isnull().sum()"
   ]
  },
  {
   "cell_type": "markdown",
   "id": "4b62d99e",
   "metadata": {},
   "source": [
    "# Binning:"
   ]
  },
  {
   "cell_type": "code",
   "execution_count": 44,
   "id": "7f9546a4",
   "metadata": {},
   "outputs": [],
   "source": [
    "#Binning:\n",
    "bins = [0,9,19,29,39,49,59,69,79,89,99]\n",
    "labels = [i for i in range(10)]\n",
    "df['tenure'] = pd.cut(df['tenure'], bins=bins, labels=labels, include_lowest=True)"
   ]
  },
  {
   "cell_type": "code",
   "execution_count": 45,
   "id": "e326dfec",
   "metadata": {},
   "outputs": [
    {
     "data": {
      "text/plain": [
       "0    1854\n",
       "1     953\n",
       "6     832\n",
       "2     762\n",
       "5     690\n",
       "3     653\n",
       "7     651\n",
       "4     648\n",
       "8       0\n",
       "9       0\n",
       "Name: tenure, dtype: int64"
      ]
     },
     "execution_count": 45,
     "metadata": {},
     "output_type": "execute_result"
    }
   ],
   "source": [
    "df.tenure.value_counts()"
   ]
  },
  {
   "cell_type": "code",
   "execution_count": 46,
   "id": "5461007d",
   "metadata": {},
   "outputs": [],
   "source": [
    "df['tenure'] = df['tenure'].astype(int)"
   ]
  },
  {
   "cell_type": "code",
   "execution_count": 47,
   "id": "03cbf9cb",
   "metadata": {},
   "outputs": [
    {
     "data": {
      "text/plain": [
       "dtype('int32')"
      ]
     },
     "execution_count": 47,
     "metadata": {},
     "output_type": "execute_result"
    }
   ],
   "source": [
    "df['tenure'].dtypes"
   ]
  },
  {
   "cell_type": "markdown",
   "id": "1985a8f7",
   "metadata": {},
   "source": [
    "In tenure column we can see that there is large scale between the values to standardise it let do binning and reduct the range limit the classes in cloumns. "
   ]
  },
  {
   "cell_type": "code",
   "execution_count": 48,
   "id": "924542d3",
   "metadata": {},
   "outputs": [
    {
     "data": {
      "text/html": [
       "<div>\n",
       "<style scoped>\n",
       "    .dataframe tbody tr th:only-of-type {\n",
       "        vertical-align: middle;\n",
       "    }\n",
       "\n",
       "    .dataframe tbody tr th {\n",
       "        vertical-align: top;\n",
       "    }\n",
       "\n",
       "    .dataframe thead th {\n",
       "        text-align: right;\n",
       "    }\n",
       "</style>\n",
       "<table border=\"1\" class=\"dataframe\">\n",
       "  <thead>\n",
       "    <tr style=\"text-align: right;\">\n",
       "      <th></th>\n",
       "      <th>gender</th>\n",
       "      <th>SeniorCitizen</th>\n",
       "      <th>Partner</th>\n",
       "      <th>Dependents</th>\n",
       "      <th>tenure</th>\n",
       "      <th>PhoneService</th>\n",
       "      <th>MultipleLines</th>\n",
       "      <th>InternetService</th>\n",
       "      <th>OnlineSecurity</th>\n",
       "      <th>OnlineBackup</th>\n",
       "      <th>DeviceProtection</th>\n",
       "      <th>TechSupport</th>\n",
       "      <th>StreamingTV</th>\n",
       "      <th>StreamingMovies</th>\n",
       "      <th>Contract</th>\n",
       "      <th>PaperlessBilling</th>\n",
       "      <th>PaymentMethod</th>\n",
       "      <th>MonthlyCharges</th>\n",
       "      <th>TotalCharges</th>\n",
       "      <th>Churn</th>\n",
       "    </tr>\n",
       "  </thead>\n",
       "  <tbody>\n",
       "    <tr>\n",
       "      <th>count</th>\n",
       "      <td>7043.000000</td>\n",
       "      <td>7043.000000</td>\n",
       "      <td>7043.000000</td>\n",
       "      <td>7043.000000</td>\n",
       "      <td>7043.000000</td>\n",
       "      <td>7043.000000</td>\n",
       "      <td>7043.000000</td>\n",
       "      <td>7043.000000</td>\n",
       "      <td>7043.000000</td>\n",
       "      <td>7043.000000</td>\n",
       "      <td>7043.000000</td>\n",
       "      <td>7043.000000</td>\n",
       "      <td>7043.000000</td>\n",
       "      <td>7043.000000</td>\n",
       "      <td>7043.000000</td>\n",
       "      <td>7043.000000</td>\n",
       "      <td>7043.000000</td>\n",
       "      <td>7043.000000</td>\n",
       "      <td>7043.000000</td>\n",
       "      <td>7043.000000</td>\n",
       "    </tr>\n",
       "    <tr>\n",
       "      <th>mean</th>\n",
       "      <td>0.504756</td>\n",
       "      <td>0.162147</td>\n",
       "      <td>0.483033</td>\n",
       "      <td>0.299588</td>\n",
       "      <td>2.843533</td>\n",
       "      <td>0.903166</td>\n",
       "      <td>0.940508</td>\n",
       "      <td>1.222916</td>\n",
       "      <td>0.286668</td>\n",
       "      <td>0.344881</td>\n",
       "      <td>0.343888</td>\n",
       "      <td>0.290217</td>\n",
       "      <td>0.384353</td>\n",
       "      <td>0.387903</td>\n",
       "      <td>0.690473</td>\n",
       "      <td>0.592219</td>\n",
       "      <td>1.574329</td>\n",
       "      <td>64.761692</td>\n",
       "      <td>2281.916928</td>\n",
       "      <td>0.265370</td>\n",
       "    </tr>\n",
       "    <tr>\n",
       "      <th>std</th>\n",
       "      <td>0.500013</td>\n",
       "      <td>0.368612</td>\n",
       "      <td>0.499748</td>\n",
       "      <td>0.458110</td>\n",
       "      <td>2.453764</td>\n",
       "      <td>0.295752</td>\n",
       "      <td>0.948554</td>\n",
       "      <td>0.778877</td>\n",
       "      <td>0.452237</td>\n",
       "      <td>0.475363</td>\n",
       "      <td>0.475038</td>\n",
       "      <td>0.453895</td>\n",
       "      <td>0.486477</td>\n",
       "      <td>0.487307</td>\n",
       "      <td>0.833755</td>\n",
       "      <td>0.491457</td>\n",
       "      <td>1.068104</td>\n",
       "      <td>30.090047</td>\n",
       "      <td>2265.270398</td>\n",
       "      <td>0.441561</td>\n",
       "    </tr>\n",
       "    <tr>\n",
       "      <th>min</th>\n",
       "      <td>0.000000</td>\n",
       "      <td>0.000000</td>\n",
       "      <td>0.000000</td>\n",
       "      <td>0.000000</td>\n",
       "      <td>0.000000</td>\n",
       "      <td>0.000000</td>\n",
       "      <td>0.000000</td>\n",
       "      <td>0.000000</td>\n",
       "      <td>0.000000</td>\n",
       "      <td>0.000000</td>\n",
       "      <td>0.000000</td>\n",
       "      <td>0.000000</td>\n",
       "      <td>0.000000</td>\n",
       "      <td>0.000000</td>\n",
       "      <td>0.000000</td>\n",
       "      <td>0.000000</td>\n",
       "      <td>0.000000</td>\n",
       "      <td>18.250000</td>\n",
       "      <td>18.800000</td>\n",
       "      <td>0.000000</td>\n",
       "    </tr>\n",
       "    <tr>\n",
       "      <th>25%</th>\n",
       "      <td>0.000000</td>\n",
       "      <td>0.000000</td>\n",
       "      <td>0.000000</td>\n",
       "      <td>0.000000</td>\n",
       "      <td>0.000000</td>\n",
       "      <td>1.000000</td>\n",
       "      <td>0.000000</td>\n",
       "      <td>1.000000</td>\n",
       "      <td>0.000000</td>\n",
       "      <td>0.000000</td>\n",
       "      <td>0.000000</td>\n",
       "      <td>0.000000</td>\n",
       "      <td>0.000000</td>\n",
       "      <td>0.000000</td>\n",
       "      <td>0.000000</td>\n",
       "      <td>0.000000</td>\n",
       "      <td>1.000000</td>\n",
       "      <td>35.500000</td>\n",
       "      <td>402.225000</td>\n",
       "      <td>0.000000</td>\n",
       "    </tr>\n",
       "    <tr>\n",
       "      <th>50%</th>\n",
       "      <td>1.000000</td>\n",
       "      <td>0.000000</td>\n",
       "      <td>0.000000</td>\n",
       "      <td>0.000000</td>\n",
       "      <td>2.000000</td>\n",
       "      <td>1.000000</td>\n",
       "      <td>1.000000</td>\n",
       "      <td>1.000000</td>\n",
       "      <td>0.000000</td>\n",
       "      <td>0.000000</td>\n",
       "      <td>0.000000</td>\n",
       "      <td>0.000000</td>\n",
       "      <td>0.000000</td>\n",
       "      <td>0.000000</td>\n",
       "      <td>0.000000</td>\n",
       "      <td>1.000000</td>\n",
       "      <td>2.000000</td>\n",
       "      <td>70.350000</td>\n",
       "      <td>1397.475000</td>\n",
       "      <td>0.000000</td>\n",
       "    </tr>\n",
       "    <tr>\n",
       "      <th>75%</th>\n",
       "      <td>1.000000</td>\n",
       "      <td>0.000000</td>\n",
       "      <td>1.000000</td>\n",
       "      <td>1.000000</td>\n",
       "      <td>5.000000</td>\n",
       "      <td>1.000000</td>\n",
       "      <td>2.000000</td>\n",
       "      <td>2.000000</td>\n",
       "      <td>1.000000</td>\n",
       "      <td>1.000000</td>\n",
       "      <td>1.000000</td>\n",
       "      <td>1.000000</td>\n",
       "      <td>1.000000</td>\n",
       "      <td>1.000000</td>\n",
       "      <td>1.000000</td>\n",
       "      <td>1.000000</td>\n",
       "      <td>2.000000</td>\n",
       "      <td>89.850000</td>\n",
       "      <td>3786.600000</td>\n",
       "      <td>1.000000</td>\n",
       "    </tr>\n",
       "    <tr>\n",
       "      <th>max</th>\n",
       "      <td>1.000000</td>\n",
       "      <td>1.000000</td>\n",
       "      <td>1.000000</td>\n",
       "      <td>1.000000</td>\n",
       "      <td>7.000000</td>\n",
       "      <td>1.000000</td>\n",
       "      <td>2.000000</td>\n",
       "      <td>2.000000</td>\n",
       "      <td>1.000000</td>\n",
       "      <td>1.000000</td>\n",
       "      <td>1.000000</td>\n",
       "      <td>1.000000</td>\n",
       "      <td>1.000000</td>\n",
       "      <td>1.000000</td>\n",
       "      <td>2.000000</td>\n",
       "      <td>1.000000</td>\n",
       "      <td>3.000000</td>\n",
       "      <td>118.750000</td>\n",
       "      <td>8684.800000</td>\n",
       "      <td>1.000000</td>\n",
       "    </tr>\n",
       "  </tbody>\n",
       "</table>\n",
       "</div>"
      ],
      "text/plain": [
       "            gender  SeniorCitizen      Partner   Dependents       tenure  \\\n",
       "count  7043.000000    7043.000000  7043.000000  7043.000000  7043.000000   \n",
       "mean      0.504756       0.162147     0.483033     0.299588     2.843533   \n",
       "std       0.500013       0.368612     0.499748     0.458110     2.453764   \n",
       "min       0.000000       0.000000     0.000000     0.000000     0.000000   \n",
       "25%       0.000000       0.000000     0.000000     0.000000     0.000000   \n",
       "50%       1.000000       0.000000     0.000000     0.000000     2.000000   \n",
       "75%       1.000000       0.000000     1.000000     1.000000     5.000000   \n",
       "max       1.000000       1.000000     1.000000     1.000000     7.000000   \n",
       "\n",
       "       PhoneService  MultipleLines  InternetService  OnlineSecurity  \\\n",
       "count   7043.000000    7043.000000      7043.000000     7043.000000   \n",
       "mean       0.903166       0.940508         1.222916        0.286668   \n",
       "std        0.295752       0.948554         0.778877        0.452237   \n",
       "min        0.000000       0.000000         0.000000        0.000000   \n",
       "25%        1.000000       0.000000         1.000000        0.000000   \n",
       "50%        1.000000       1.000000         1.000000        0.000000   \n",
       "75%        1.000000       2.000000         2.000000        1.000000   \n",
       "max        1.000000       2.000000         2.000000        1.000000   \n",
       "\n",
       "       OnlineBackup  DeviceProtection  TechSupport  StreamingTV  \\\n",
       "count   7043.000000       7043.000000  7043.000000  7043.000000   \n",
       "mean       0.344881          0.343888     0.290217     0.384353   \n",
       "std        0.475363          0.475038     0.453895     0.486477   \n",
       "min        0.000000          0.000000     0.000000     0.000000   \n",
       "25%        0.000000          0.000000     0.000000     0.000000   \n",
       "50%        0.000000          0.000000     0.000000     0.000000   \n",
       "75%        1.000000          1.000000     1.000000     1.000000   \n",
       "max        1.000000          1.000000     1.000000     1.000000   \n",
       "\n",
       "       StreamingMovies     Contract  PaperlessBilling  PaymentMethod  \\\n",
       "count      7043.000000  7043.000000       7043.000000    7043.000000   \n",
       "mean          0.387903     0.690473          0.592219       1.574329   \n",
       "std           0.487307     0.833755          0.491457       1.068104   \n",
       "min           0.000000     0.000000          0.000000       0.000000   \n",
       "25%           0.000000     0.000000          0.000000       1.000000   \n",
       "50%           0.000000     0.000000          1.000000       2.000000   \n",
       "75%           1.000000     1.000000          1.000000       2.000000   \n",
       "max           1.000000     2.000000          1.000000       3.000000   \n",
       "\n",
       "       MonthlyCharges  TotalCharges        Churn  \n",
       "count     7043.000000   7043.000000  7043.000000  \n",
       "mean        64.761692   2281.916928     0.265370  \n",
       "std         30.090047   2265.270398     0.441561  \n",
       "min         18.250000     18.800000     0.000000  \n",
       "25%         35.500000    402.225000     0.000000  \n",
       "50%         70.350000   1397.475000     0.000000  \n",
       "75%         89.850000   3786.600000     1.000000  \n",
       "max        118.750000   8684.800000     1.000000  "
      ]
     },
     "execution_count": 48,
     "metadata": {},
     "output_type": "execute_result"
    }
   ],
   "source": [
    "df.describe()"
   ]
  },
  {
   "cell_type": "markdown",
   "id": "5ecb0d09",
   "metadata": {},
   "source": [
    "We can see that we have sucessfully changed or processed the columns which required it. Now the row count fo all columns have been made same. max values of all column have been standardised "
   ]
  },
  {
   "cell_type": "markdown",
   "id": "7356f0c1",
   "metadata": {},
   "source": [
    "# EDA and Data Visualizations:\n"
   ]
  },
  {
   "cell_type": "markdown",
   "id": "a6048cb7",
   "metadata": {},
   "source": [
    "Univariate Analysis:"
   ]
  },
  {
   "cell_type": "code",
   "execution_count": 49,
   "id": "d4750752",
   "metadata": {},
   "outputs": [
    {
     "data": {
      "image/png": "[encoded data removed]",
      "text/plain": [
       "<Figure size 432x288 with 1 Axes>"
      ]
     },
     "metadata": {
      "needs_background": "light"
     },
     "output_type": "display_data"
    }
   ],
   "source": [
    "df_eda[\"Churn\"].hist(grid=True,color='blue')\n",
    "plt.title(\"Churn Status\")\n",
    "plt.show()"
   ]
  },
  {
   "cell_type": "markdown",
   "id": "08eae6b3",
   "metadata": {},
   "source": [
    "Seems to be Imbalanced dataset. Churn Yes is low in ratio comparision. "
   ]
  },
  {
   "cell_type": "code",
   "execution_count": 50,
   "id": "52e9d2e2",
   "metadata": {},
   "outputs": [
    {
     "data": {
      "text/plain": [
       "<AxesSubplot:xlabel='gender', ylabel='count'>"
      ]
     },
     "execution_count": 50,
     "metadata": {},
     "output_type": "execute_result"
    },
    {
     "data": {
      "image/png": "[encoded data removed]",
      "text/plain": [
       "<Figure size 432x432 with 1 Axes>"
      ]
     },
     "metadata": {
      "needs_background": "light"
     },
     "output_type": "display_data"
    }
   ],
   "source": [
    "plt.subplots(figsize=(6,6))\n",
    "sns.countplot(x='gender',data=df_eda,hue='Churn')"
   ]
  },
  {
   "cell_type": "markdown",
   "id": "751bc935",
   "metadata": {},
   "source": [
    " Counts of male and female seems to be with same margin (for both classs of churn). Only a slight count is higher in Males "
   ]
  },
  {
   "cell_type": "code",
   "execution_count": 51,
   "id": "5cb6fb7c",
   "metadata": {},
   "outputs": [
    {
     "data": {
      "text/plain": [
       "<AxesSubplot:xlabel='SeniorCitizen', ylabel='count'>"
      ]
     },
     "execution_count": 51,
     "metadata": {},
     "output_type": "execute_result"
    },
    {
     "data": {
      "image/png": "[encoded data removed]",
      "text/plain": [
       "<Figure size 432x432 with 1 Axes>"
      ]
     },
     "metadata": {
      "needs_background": "light"
     },
     "output_type": "display_data"
    }
   ],
   "source": [
    "plt.subplots(figsize=(6,6))\n",
    "sns.countplot(x='SeniorCitizen',data=df_eda,hue='Churn')"
   ]
  },
  {
   "cell_type": "markdown",
   "id": "f01008f3",
   "metadata": {},
   "source": [
    " We can see that \"seniourCitezens\" are less in count and \"Churn\" Yes is lees with then. "
   ]
  },
  {
   "cell_type": "code",
   "execution_count": 52,
   "id": "c247f96a",
   "metadata": {},
   "outputs": [
    {
     "data": {
      "text/plain": [
       "<AxesSubplot:xlabel='Partner', ylabel='count'>"
      ]
     },
     "execution_count": 52,
     "metadata": {},
     "output_type": "execute_result"
    },
    {
     "data": {
      "image/png": "[encoded data removed]",
      "text/plain": [
       "<Figure size 432x432 with 1 Axes>"
      ]
     },
     "metadata": {
      "needs_background": "light"
     },
     "output_type": "display_data"
    }
   ],
   "source": [
    "plt.subplots(figsize=(6,6))\n",
    "sns.countplot(x='Partner',data=df_eda,hue='Churn')"
   ]
  },
  {
   "cell_type": "markdown",
   "id": "7dfc246f",
   "metadata": {},
   "source": [
    "Observation show that Churn is high on those who are not partners. "
   ]
  },
  {
   "cell_type": "code",
   "execution_count": 53,
   "id": "27a43870",
   "metadata": {},
   "outputs": [
    {
     "data": {
      "text/plain": [
       "<AxesSubplot:xlabel='Dependents', ylabel='count'>"
      ]
     },
     "execution_count": 53,
     "metadata": {},
     "output_type": "execute_result"
    },
    {
     "data": {
      "image/png": "[encoded data removed]",
      "text/plain": [
       "<Figure size 432x432 with 1 Axes>"
      ]
     },
     "metadata": {
      "needs_background": "light"
     },
     "output_type": "display_data"
    }
   ],
   "source": [
    "plt.subplots(figsize=(6,6))\n",
    "sns.countplot(x='Dependents',data=df_eda,hue='Churn')"
   ]
  },
  {
   "cell_type": "markdown",
   "id": "8a38217a",
   "metadata": {},
   "source": [
    "Non Dependents have higher Churn Yes when compared with Dependent churn yes. "
   ]
  },
  {
   "cell_type": "code",
   "execution_count": 54,
   "id": "1b109f94",
   "metadata": {},
   "outputs": [
    {
     "data": {
      "text/plain": [
       "<AxesSubplot:xlabel='tenure', ylabel='count'>"
      ]
     },
     "execution_count": 54,
     "metadata": {},
     "output_type": "execute_result"
    },
    {
     "data": {
      "image/png": "[encoded data removed]",
      "text/plain": [
       "<Figure size 432x432 with 1 Axes>"
      ]
     },
     "metadata": {
      "needs_background": "light"
     },
     "output_type": "display_data"
    }
   ],
   "source": [
    "plt.subplots(figsize=(6,6))\n",
    "sns.countplot(x='tenure',data=df,hue='Churn')"
   ]
  },
  {
   "cell_type": "markdown",
   "id": "e7517c82",
   "metadata": {},
   "source": [
    " we can notice that Churn Yes is high in the Tenure between 0-10 less duration limit. Higher the tenure time we have less Churn. "
   ]
  },
  {
   "cell_type": "code",
   "execution_count": 55,
   "id": "774fc418",
   "metadata": {},
   "outputs": [
    {
     "data": {
      "text/plain": [
       "<AxesSubplot:xlabel='PhoneService', ylabel='count'>"
      ]
     },
     "execution_count": 55,
     "metadata": {},
     "output_type": "execute_result"
    },
    {
     "data": {
      "image/png": "[encoded data removed]",
      "text/plain": [
       "<Figure size 432x432 with 1 Axes>"
      ]
     },
     "metadata": {
      "needs_background": "light"
     },
     "output_type": "display_data"
    }
   ],
   "source": [
    "plt.subplots(figsize=(6,6))\n",
    "sns.countplot(x='PhoneService',data=df_eda,hue='Churn')"
   ]
  },
  {
   "cell_type": "markdown",
   "id": "7dc2db0a",
   "metadata": {},
   "source": [
    "count of having Phone service connection is higher with higher no churn and less yes churn "
   ]
  },
  {
   "cell_type": "code",
   "execution_count": 56,
   "id": "6aa61273",
   "metadata": {},
   "outputs": [
    {
     "data": {
      "text/plain": [
       "<AxesSubplot:xlabel='MultipleLines', ylabel='count'>"
      ]
     },
     "execution_count": 56,
     "metadata": {},
     "output_type": "execute_result"
    },
    {
     "data": {
      "image/png": "[encoded data removed]",
      "text/plain": [
       "<Figure size 432x432 with 1 Axes>"
      ]
     },
     "metadata": {
      "needs_background": "light"
     },
     "output_type": "display_data"
    }
   ],
   "source": [
    "plt.subplots(figsize=(6,6))\n",
    "sns.countplot(x='MultipleLines',data=df_eda,hue='Churn')"
   ]
  },
  {
   "cell_type": "markdown",
   "id": "2f2d4a06",
   "metadata": {},
   "source": [
    "Count of people Not having multiple line is higher. "
   ]
  },
  {
   "cell_type": "code",
   "execution_count": 58,
   "id": "f719fcf4",
   "metadata": {},
   "outputs": [
    {
     "data": {
      "text/plain": [
       "<AxesSubplot:xlabel='InternetService', ylabel='count'>"
      ]
     },
     "execution_count": 58,
     "metadata": {},
     "output_type": "execute_result"
    },
    {
     "data": {
      "image/png": "[encoded data removed]",
      "text/plain": [
       "<Figure size 432x432 with 1 Axes>"
      ]
     },
     "metadata": {
      "needs_background": "light"
     },
     "output_type": "display_data"
    }
   ],
   "source": [
    "plt.subplots(figsize=(6,6))\n",
    "sns.countplot(x='InternetService',data=df_eda,hue='Churn')"
   ]
  },
  {
   "cell_type": "markdown",
   "id": "a00f8b15",
   "metadata": {},
   "source": [
    "Graph shows that count of DSL connection is high as compare with Fiber Optic. No internet service count is less and has little yes churn. "
   ]
  },
  {
   "cell_type": "code",
   "execution_count": 59,
   "id": "2573fb3a",
   "metadata": {},
   "outputs": [
    {
     "data": {
      "text/plain": [
       "<AxesSubplot:xlabel='OnlineBackup', ylabel='count'>"
      ]
     },
     "execution_count": 59,
     "metadata": {},
     "output_type": "execute_result"
    },
    {
     "data": {
      "image/png": "[encoded data removed]",
      "text/plain": [
       "<Figure size 432x432 with 1 Axes>"
      ]
     },
     "metadata": {
      "needs_background": "light"
     },
     "output_type": "display_data"
    }
   ],
   "source": [
    "plt.subplots(figsize=(6,6))\n",
    "sns.countplot(x='OnlineBackup',data=df_eda,hue='Churn')"
   ]
  },
  {
   "cell_type": "markdown",
   "id": "b0257b0d",
   "metadata": {},
   "source": [
    "Counts of Online back up is high compareed with no internet connection. No online backup count has higher Churn Yes rate. "
   ]
  },
  {
   "cell_type": "code",
   "execution_count": 60,
   "id": "5f7fe579",
   "metadata": {},
   "outputs": [
    {
     "data": {
      "text/plain": [
       "<AxesSubplot:xlabel='DeviceProtection', ylabel='count'>"
      ]
     },
     "execution_count": 60,
     "metadata": {},
     "output_type": "execute_result"
    },
    {
     "data": {
      "image/png": "[encoded data removed]",
      "text/plain": [
       "<Figure size 432x432 with 1 Axes>"
      ]
     },
     "metadata": {
      "needs_background": "light"
     },
     "output_type": "display_data"
    }
   ],
   "source": [
    "plt.subplots(figsize=(6,6))\n",
    "sns.countplot(x='DeviceProtection',data=df_eda,hue='Churn')"
   ]
  },
  {
   "cell_type": "markdown",
   "id": "b9105d27",
   "metadata": {},
   "source": [
    "Device protection count is higherand Churn is less with those for device protection. "
   ]
  },
  {
   "cell_type": "code",
   "execution_count": 61,
   "id": "00e0004e",
   "metadata": {},
   "outputs": [
    {
     "data": {
      "text/plain": [
       "<AxesSubplot:xlabel='TechSupport', ylabel='count'>"
      ]
     },
     "execution_count": 61,
     "metadata": {},
     "output_type": "execute_result"
    },
    {
     "data": {
      "image/png": "[encoded data removed]",
      "text/plain": [
       "<Figure size 432x432 with 1 Axes>"
      ]
     },
     "metadata": {
      "needs_background": "light"
     },
     "output_type": "display_data"
    }
   ],
   "source": [
    "plt.subplots(figsize=(6,6))\n",
    "sns.countplot(x='TechSupport',data=df_eda,hue='Churn')"
   ]
  },
  {
   "cell_type": "markdown",
   "id": "1d6a46ae",
   "metadata": {},
   "source": [
    "Observation: people with TechSupport have less churn yes when compared with the one without tech support. "
   ]
  },
  {
   "cell_type": "code",
   "execution_count": 62,
   "id": "7cf7c0a6",
   "metadata": {},
   "outputs": [
    {
     "data": {
      "text/plain": [
       "<AxesSubplot:xlabel='StreamingTV', ylabel='count'>"
      ]
     },
     "execution_count": 62,
     "metadata": {},
     "output_type": "execute_result"
    },
    {
     "data": {
      "image/png": "[encoded data removed]",
      "text/plain": [
       "<Figure size 432x432 with 1 Axes>"
      ]
     },
     "metadata": {
      "needs_background": "light"
     },
     "output_type": "display_data"
    }
   ],
   "source": [
    "plt.subplots(figsize=(6,6))\n",
    "sns.countplot(x='StreamingTV',data=df_eda,hue='Churn')"
   ]
  },
  {
   "cell_type": "markdown",
   "id": "0c77f2d4",
   "metadata": {},
   "source": [
    "Churn yes is less with the one who is streaming TV "
   ]
  },
  {
   "cell_type": "code",
   "execution_count": 63,
   "id": "e0eeb581",
   "metadata": {},
   "outputs": [
    {
     "data": {
      "text/plain": [
       "<AxesSubplot:xlabel='StreamingMovies', ylabel='count'>"
      ]
     },
     "execution_count": 63,
     "metadata": {},
     "output_type": "execute_result"
    },
    {
     "data": {
      "image/png": "[encoded data removed]",
      "text/plain": [
       "<Figure size 432x432 with 1 Axes>"
      ]
     },
     "metadata": {
      "needs_background": "light"
     },
     "output_type": "display_data"
    }
   ],
   "source": [
    "plt.subplots(figsize=(6,6))\n",
    "sns.countplot(x='StreamingMovies',data=df_eda,hue='Churn')"
   ]
  },
  {
   "cell_type": "markdown",
   "id": "b7a5acfb",
   "metadata": {},
   "source": [
    "Observation: Churn yes is less with the one who is streaming Movies "
   ]
  },
  {
   "cell_type": "code",
   "execution_count": 64,
   "id": "7134d981",
   "metadata": {},
   "outputs": [
    {
     "data": {
      "text/plain": [
       "<AxesSubplot:xlabel='Contract', ylabel='count'>"
      ]
     },
     "execution_count": 64,
     "metadata": {},
     "output_type": "execute_result"
    },
    {
     "data": {
      "image/png": "[encoded data removed]",
      "text/plain": [
       "<Figure size 432x432 with 1 Axes>"
      ]
     },
     "metadata": {
      "needs_background": "light"
     },
     "output_type": "display_data"
    }
   ],
   "source": [
    "plt.subplots(figsize=(6,6))\n",
    "sns.countplot(x='Contract',data=df_eda,hue='Churn')"
   ]
  },
  {
   "cell_type": "markdown",
   "id": "3d0d3067",
   "metadata": {},
   "source": [
    "Observation: We can notice that long term contracts are having less churns(yes). Whereas short term contracts with monthly basis is having high churns compared to long term contracts "
   ]
  },
  {
   "cell_type": "code",
   "execution_count": 65,
   "id": "d4e1871d",
   "metadata": {},
   "outputs": [
    {
     "data": {
      "text/plain": [
       "<AxesSubplot:xlabel='PaperlessBilling', ylabel='count'>"
      ]
     },
     "execution_count": 65,
     "metadata": {},
     "output_type": "execute_result"
    },
    {
     "data": {
      "image/png": "[encoded data removed]",
      "text/plain": [
       "<Figure size 432x432 with 1 Axes>"
      ]
     },
     "metadata": {
      "needs_background": "light"
     },
     "output_type": "display_data"
    }
   ],
   "source": [
    "plt.subplots(figsize=(6,6))\n",
    "sns.countplot(x='PaperlessBilling',data=df_eda,hue='Churn')"
   ]
  },
  {
   "cell_type": "markdown",
   "id": "0ab80722",
   "metadata": {},
   "source": [
    "Observation: PaperlessBilling is high and Churn in them also is high "
   ]
  },
  {
   "cell_type": "code",
   "execution_count": 67,
   "id": "e1ceab5f",
   "metadata": {},
   "outputs": [
    {
     "data": {
      "text/plain": [
       "<AxesSubplot:xlabel='PaymentMethod', ylabel='count'>"
      ]
     },
     "execution_count": 67,
     "metadata": {},
     "output_type": "execute_result"
    },
    {
     "data": {
      "image/png": "[encoded data removed]",
      "text/plain": [
       "<Figure size 576x288 with 1 Axes>"
      ]
     },
     "metadata": {
      "needs_background": "light"
     },
     "output_type": "display_data"
    }
   ],
   "source": [
    "plt.subplots(figsize=(8,4))\n",
    "sns.countplot(x='PaymentMethod',data=df_eda,hue='Churn')"
   ]
  },
  {
   "cell_type": "markdown",
   "id": "bb31877c",
   "metadata": {},
   "source": [
    "PaymentMethods seem to be near equal for all type of paymentmode. But high Churn is in Electronic Check modes. "
   ]
  },
  {
   "cell_type": "raw",
   "id": "05ad8966",
   "metadata": {},
   "source": [
    "Bivariate Analysis:"
   ]
  },
  {
   "cell_type": "code",
   "execution_count": 68,
   "id": "23c8a59f",
   "metadata": {},
   "outputs": [
    {
     "data": {
      "text/plain": [
       "<seaborn.axisgrid.FacetGrid at 0x2348769d7f0>"
      ]
     },
     "execution_count": 68,
     "metadata": {},
     "output_type": "execute_result"
    },
    {
     "data": {
      "image/png": "[encoded data removed]",
      "text/plain": [
       "<Figure size 360x360 with 1 Axes>"
      ]
     },
     "metadata": {
      "needs_background": "light"
     },
     "output_type": "display_data"
    }
   ],
   "source": [
    "sns.catplot(x='SeniorCitizen',y='tenure',data=df_eda)"
   ]
  },
  {
   "cell_type": "markdown",
   "id": "1b8d1899",
   "metadata": {},
   "source": [
    "When comapred with SeniorCitizens other are of high in count and tenure also densly occupied. "
   ]
  },
  {
   "cell_type": "code",
   "execution_count": 69,
   "id": "fdbd2923",
   "metadata": {},
   "outputs": [
    {
     "data": {
      "text/plain": [
       "<AxesSubplot:title={'center':'SeniorCitizens Vs Gender'}, xlabel='gender', ylabel='SeniorCitizen'>"
      ]
     },
     "execution_count": 69,
     "metadata": {},
     "output_type": "execute_result"
    },
    {
     "data": {
      "image/png": "[encoded data removed]",
      "text/plain": [
       "<Figure size 576x288 with 1 Axes>"
      ]
     },
     "metadata": {
      "needs_background": "light"
     },
     "output_type": "display_data"
    }
   ],
   "source": [
    "plt.figure(figsize=[8,4])\n",
    "plt.title('SeniorCitizens Vs Gender')\n",
    "sns.scatterplot(df_eda['gender'],df_eda['SeniorCitizen'],hue=df['Churn'])"
   ]
  },
  {
   "cell_type": "markdown",
   "id": "e82d4140",
   "metadata": {},
   "source": [
    "When compared with Female , Males have high Churn(Yes). "
   ]
  },
  {
   "cell_type": "code",
   "execution_count": 70,
   "id": "ad9c44c0",
   "metadata": {},
   "outputs": [
    {
     "data": {
      "text/plain": [
       "<AxesSubplot:title={'center':'Contract Vs '}, xlabel='Contract', ylabel='gender'>"
      ]
     },
     "execution_count": 70,
     "metadata": {},
     "output_type": "execute_result"
    },
    {
     "data": {
      "image/png": "[encoded data removed]",
      "text/plain": [
       "<Figure size 576x288 with 1 Axes>"
      ]
     },
     "metadata": {
      "needs_background": "light"
     },
     "output_type": "display_data"
    }
   ],
   "source": [
    "plt.figure(figsize=[8,4])\n",
    "plt.title('Contract Vs ')\n",
    "sns.scatterplot(df_eda['Contract'],df_eda['gender'],hue=df['Churn'])"
   ]
  },
  {
   "cell_type": "markdown",
   "id": "909a8a75",
   "metadata": {},
   "source": [
    "Males with Monthly contracts have high Churn(yes) "
   ]
  },
  {
   "cell_type": "code",
   "execution_count": 71,
   "id": "4604cacb",
   "metadata": {},
   "outputs": [
    {
     "data": {
      "text/plain": [
       "<AxesSubplot:xlabel='MonthlyCharges', ylabel='Density'>"
      ]
     },
     "execution_count": 71,
     "metadata": {},
     "output_type": "execute_result"
    },
    {
     "data": {
      "image/png": "[encoded data removed]",
      "text/plain": [
       "<Figure size 432x288 with 1 Axes>"
      ]
     },
     "metadata": {
      "needs_background": "light"
     },
     "output_type": "display_data"
    }
   ],
   "source": [
    "sns.distplot(df[\"MonthlyCharges\"],kde=True)"
   ]
  },
  {
   "cell_type": "markdown",
   "id": "fad0a7d1",
   "metadata": {},
   "source": [
    "We can notice that there is skewness in Monthlycharges and point 20 has the higest peak then gets reduced further with increase in next points. "
   ]
  },
  {
   "cell_type": "code",
   "execution_count": 72,
   "id": "427e1f14",
   "metadata": {},
   "outputs": [
    {
     "data": {
      "text/plain": [
       "<AxesSubplot:xlabel='TotalCharges', ylabel='Density'>"
      ]
     },
     "execution_count": 72,
     "metadata": {},
     "output_type": "execute_result"
    },
    {
     "data": {
      "image/png": "[encoded data removed]",
      "text/plain": [
       "<Figure size 432x288 with 1 Axes>"
      ]
     },
     "metadata": {
      "needs_background": "light"
     },
     "output_type": "display_data"
    }
   ],
   "source": [
    "sns.distplot(df[\"TotalCharges\"],kde=True)"
   ]
  },
  {
   "cell_type": "markdown",
   "id": "a0a8b7d3",
   "metadata": {},
   "source": [
    "We can notice that there is Right tail skewness in total charges with higher amounts. "
   ]
  },
  {
   "cell_type": "markdown",
   "id": "f0c2a08c",
   "metadata": {},
   "source": [
    "# Multivariate Analysis:"
   ]
  },
  {
   "cell_type": "code",
   "execution_count": 73,
   "id": "66a108f9",
   "metadata": {},
   "outputs": [
    {
     "data": {
      "text/html": [
       "<div>\n",
       "<style scoped>\n",
       "    .dataframe tbody tr th:only-of-type {\n",
       "        vertical-align: middle;\n",
       "    }\n",
       "\n",
       "    .dataframe tbody tr th {\n",
       "        vertical-align: top;\n",
       "    }\n",
       "\n",
       "    .dataframe thead th {\n",
       "        text-align: right;\n",
       "    }\n",
       "</style>\n",
       "<table border=\"1\" class=\"dataframe\">\n",
       "  <thead>\n",
       "    <tr style=\"text-align: right;\">\n",
       "      <th></th>\n",
       "      <th>gender</th>\n",
       "      <th>SeniorCitizen</th>\n",
       "      <th>Partner</th>\n",
       "      <th>Dependents</th>\n",
       "      <th>tenure</th>\n",
       "      <th>PhoneService</th>\n",
       "      <th>MultipleLines</th>\n",
       "      <th>InternetService</th>\n",
       "      <th>OnlineSecurity</th>\n",
       "      <th>OnlineBackup</th>\n",
       "      <th>DeviceProtection</th>\n",
       "      <th>TechSupport</th>\n",
       "      <th>StreamingTV</th>\n",
       "      <th>StreamingMovies</th>\n",
       "      <th>Contract</th>\n",
       "      <th>PaperlessBilling</th>\n",
       "      <th>PaymentMethod</th>\n",
       "      <th>MonthlyCharges</th>\n",
       "      <th>TotalCharges</th>\n",
       "      <th>Churn</th>\n",
       "    </tr>\n",
       "  </thead>\n",
       "  <tbody>\n",
       "    <tr>\n",
       "      <th>gender</th>\n",
       "      <td>1.000000</td>\n",
       "      <td>-0.001874</td>\n",
       "      <td>-0.001808</td>\n",
       "      <td>0.010517</td>\n",
       "      <td>0.005699</td>\n",
       "      <td>-0.006488</td>\n",
       "      <td>-0.006739</td>\n",
       "      <td>-0.010380</td>\n",
       "      <td>-0.017021</td>\n",
       "      <td>-0.013773</td>\n",
       "      <td>-0.002105</td>\n",
       "      <td>-0.009212</td>\n",
       "      <td>-0.008393</td>\n",
       "      <td>-0.010487</td>\n",
       "      <td>0.000126</td>\n",
       "      <td>-0.011754</td>\n",
       "      <td>0.017352</td>\n",
       "      <td>-0.014569</td>\n",
       "      <td>-0.000002</td>\n",
       "      <td>-0.008612</td>\n",
       "    </tr>\n",
       "    <tr>\n",
       "      <th>SeniorCitizen</th>\n",
       "      <td>-0.001874</td>\n",
       "      <td>1.000000</td>\n",
       "      <td>0.016479</td>\n",
       "      <td>-0.211185</td>\n",
       "      <td>0.015651</td>\n",
       "      <td>0.008576</td>\n",
       "      <td>0.146185</td>\n",
       "      <td>0.259390</td>\n",
       "      <td>-0.038653</td>\n",
       "      <td>0.066572</td>\n",
       "      <td>0.059428</td>\n",
       "      <td>-0.060625</td>\n",
       "      <td>0.105378</td>\n",
       "      <td>0.120176</td>\n",
       "      <td>-0.142554</td>\n",
       "      <td>0.156530</td>\n",
       "      <td>-0.038551</td>\n",
       "      <td>0.220173</td>\n",
       "      <td>0.102652</td>\n",
       "      <td>0.150889</td>\n",
       "    </tr>\n",
       "    <tr>\n",
       "      <th>Partner</th>\n",
       "      <td>-0.001808</td>\n",
       "      <td>0.016479</td>\n",
       "      <td>1.000000</td>\n",
       "      <td>0.452676</td>\n",
       "      <td>0.376627</td>\n",
       "      <td>0.017706</td>\n",
       "      <td>0.142410</td>\n",
       "      <td>-0.000132</td>\n",
       "      <td>0.143106</td>\n",
       "      <td>0.141498</td>\n",
       "      <td>0.153786</td>\n",
       "      <td>0.119999</td>\n",
       "      <td>0.124666</td>\n",
       "      <td>0.117412</td>\n",
       "      <td>0.294806</td>\n",
       "      <td>-0.014877</td>\n",
       "      <td>-0.154798</td>\n",
       "      <td>0.096848</td>\n",
       "      <td>0.318364</td>\n",
       "      <td>-0.150448</td>\n",
       "    </tr>\n",
       "    <tr>\n",
       "      <th>Dependents</th>\n",
       "      <td>0.010517</td>\n",
       "      <td>-0.211185</td>\n",
       "      <td>0.452676</td>\n",
       "      <td>1.000000</td>\n",
       "      <td>0.156539</td>\n",
       "      <td>-0.001762</td>\n",
       "      <td>-0.024991</td>\n",
       "      <td>-0.179631</td>\n",
       "      <td>0.080972</td>\n",
       "      <td>0.023671</td>\n",
       "      <td>0.013963</td>\n",
       "      <td>0.063268</td>\n",
       "      <td>-0.016558</td>\n",
       "      <td>-0.039741</td>\n",
       "      <td>0.243187</td>\n",
       "      <td>-0.111377</td>\n",
       "      <td>-0.040292</td>\n",
       "      <td>-0.113890</td>\n",
       "      <td>0.063593</td>\n",
       "      <td>-0.164221</td>\n",
       "    </tr>\n",
       "    <tr>\n",
       "      <th>tenure</th>\n",
       "      <td>0.005699</td>\n",
       "      <td>0.015651</td>\n",
       "      <td>0.376627</td>\n",
       "      <td>0.156539</td>\n",
       "      <td>1.000000</td>\n",
       "      <td>0.009645</td>\n",
       "      <td>0.340713</td>\n",
       "      <td>0.031999</td>\n",
       "      <td>0.327205</td>\n",
       "      <td>0.359881</td>\n",
       "      <td>0.359141</td>\n",
       "      <td>0.323959</td>\n",
       "      <td>0.279628</td>\n",
       "      <td>0.284841</td>\n",
       "      <td>0.671135</td>\n",
       "      <td>0.006079</td>\n",
       "      <td>-0.367307</td>\n",
       "      <td>0.246806</td>\n",
       "      <td>0.823763</td>\n",
       "      <td>-0.345556</td>\n",
       "    </tr>\n",
       "    <tr>\n",
       "      <th>PhoneService</th>\n",
       "      <td>-0.006488</td>\n",
       "      <td>0.008576</td>\n",
       "      <td>0.017706</td>\n",
       "      <td>-0.001762</td>\n",
       "      <td>0.009645</td>\n",
       "      <td>1.000000</td>\n",
       "      <td>-0.020538</td>\n",
       "      <td>0.093720</td>\n",
       "      <td>-0.092893</td>\n",
       "      <td>-0.052312</td>\n",
       "      <td>-0.071227</td>\n",
       "      <td>-0.096340</td>\n",
       "      <td>-0.022574</td>\n",
       "      <td>-0.032959</td>\n",
       "      <td>0.002247</td>\n",
       "      <td>0.016505</td>\n",
       "      <td>-0.004184</td>\n",
       "      <td>0.247398</td>\n",
       "      <td>0.113013</td>\n",
       "      <td>0.011942</td>\n",
       "    </tr>\n",
       "    <tr>\n",
       "      <th>MultipleLines</th>\n",
       "      <td>-0.006739</td>\n",
       "      <td>0.146185</td>\n",
       "      <td>0.142410</td>\n",
       "      <td>-0.024991</td>\n",
       "      <td>0.340713</td>\n",
       "      <td>-0.020538</td>\n",
       "      <td>1.000000</td>\n",
       "      <td>0.329715</td>\n",
       "      <td>0.131128</td>\n",
       "      <td>0.226910</td>\n",
       "      <td>0.231661</td>\n",
       "      <td>0.134768</td>\n",
       "      <td>0.274823</td>\n",
       "      <td>0.279727</td>\n",
       "      <td>0.110842</td>\n",
       "      <td>0.165146</td>\n",
       "      <td>-0.176793</td>\n",
       "      <td>0.433576</td>\n",
       "      <td>0.452849</td>\n",
       "      <td>0.038037</td>\n",
       "    </tr>\n",
       "    <tr>\n",
       "      <th>InternetService</th>\n",
       "      <td>-0.010380</td>\n",
       "      <td>0.259390</td>\n",
       "      <td>-0.000132</td>\n",
       "      <td>-0.179631</td>\n",
       "      <td>0.031999</td>\n",
       "      <td>0.093720</td>\n",
       "      <td>0.329715</td>\n",
       "      <td>1.000000</td>\n",
       "      <td>0.156799</td>\n",
       "      <td>0.307420</td>\n",
       "      <td>0.313603</td>\n",
       "      <td>0.164833</td>\n",
       "      <td>0.429707</td>\n",
       "      <td>0.427264</td>\n",
       "      <td>-0.290189</td>\n",
       "      <td>0.378108</td>\n",
       "      <td>-0.120971</td>\n",
       "      <td>0.905491</td>\n",
       "      <td>0.428301</td>\n",
       "      <td>0.316846</td>\n",
       "    </tr>\n",
       "    <tr>\n",
       "      <th>OnlineSecurity</th>\n",
       "      <td>-0.017021</td>\n",
       "      <td>-0.038653</td>\n",
       "      <td>0.143106</td>\n",
       "      <td>0.080972</td>\n",
       "      <td>0.327205</td>\n",
       "      <td>-0.092893</td>\n",
       "      <td>0.131128</td>\n",
       "      <td>0.156799</td>\n",
       "      <td>1.000000</td>\n",
       "      <td>0.283832</td>\n",
       "      <td>0.275438</td>\n",
       "      <td>0.354931</td>\n",
       "      <td>0.176207</td>\n",
       "      <td>0.187398</td>\n",
       "      <td>0.245530</td>\n",
       "      <td>-0.003636</td>\n",
       "      <td>-0.150100</td>\n",
       "      <td>0.296594</td>\n",
       "      <td>0.412091</td>\n",
       "      <td>-0.171226</td>\n",
       "    </tr>\n",
       "    <tr>\n",
       "      <th>OnlineBackup</th>\n",
       "      <td>-0.013773</td>\n",
       "      <td>0.066572</td>\n",
       "      <td>0.141498</td>\n",
       "      <td>0.023671</td>\n",
       "      <td>0.359881</td>\n",
       "      <td>-0.052312</td>\n",
       "      <td>0.226910</td>\n",
       "      <td>0.307420</td>\n",
       "      <td>0.283832</td>\n",
       "      <td>1.000000</td>\n",
       "      <td>0.303546</td>\n",
       "      <td>0.294233</td>\n",
       "      <td>0.282106</td>\n",
       "      <td>0.274501</td>\n",
       "      <td>0.155085</td>\n",
       "      <td>0.126735</td>\n",
       "      <td>-0.170898</td>\n",
       "      <td>0.441780</td>\n",
       "      <td>0.509607</td>\n",
       "      <td>-0.082255</td>\n",
       "    </tr>\n",
       "    <tr>\n",
       "      <th>DeviceProtection</th>\n",
       "      <td>-0.002105</td>\n",
       "      <td>0.059428</td>\n",
       "      <td>0.153786</td>\n",
       "      <td>0.013963</td>\n",
       "      <td>0.359141</td>\n",
       "      <td>-0.071227</td>\n",
       "      <td>0.231661</td>\n",
       "      <td>0.313603</td>\n",
       "      <td>0.275438</td>\n",
       "      <td>0.303546</td>\n",
       "      <td>1.000000</td>\n",
       "      <td>0.333313</td>\n",
       "      <td>0.390874</td>\n",
       "      <td>0.402111</td>\n",
       "      <td>0.219310</td>\n",
       "      <td>0.103797</td>\n",
       "      <td>-0.181085</td>\n",
       "      <td>0.482692</td>\n",
       "      <td>0.522374</td>\n",
       "      <td>-0.066160</td>\n",
       "    </tr>\n",
       "    <tr>\n",
       "      <th>TechSupport</th>\n",
       "      <td>-0.009212</td>\n",
       "      <td>-0.060625</td>\n",
       "      <td>0.119999</td>\n",
       "      <td>0.063268</td>\n",
       "      <td>0.323959</td>\n",
       "      <td>-0.096340</td>\n",
       "      <td>0.134768</td>\n",
       "      <td>0.164833</td>\n",
       "      <td>0.354931</td>\n",
       "      <td>0.294233</td>\n",
       "      <td>0.333313</td>\n",
       "      <td>1.000000</td>\n",
       "      <td>0.278070</td>\n",
       "      <td>0.279358</td>\n",
       "      <td>0.293691</td>\n",
       "      <td>0.037880</td>\n",
       "      <td>-0.157272</td>\n",
       "      <td>0.338304</td>\n",
       "      <td>0.432329</td>\n",
       "      <td>-0.164674</td>\n",
       "    </tr>\n",
       "    <tr>\n",
       "      <th>StreamingTV</th>\n",
       "      <td>-0.008393</td>\n",
       "      <td>0.105378</td>\n",
       "      <td>0.124666</td>\n",
       "      <td>-0.016558</td>\n",
       "      <td>0.279628</td>\n",
       "      <td>-0.022574</td>\n",
       "      <td>0.274823</td>\n",
       "      <td>0.429707</td>\n",
       "      <td>0.176207</td>\n",
       "      <td>0.282106</td>\n",
       "      <td>0.390874</td>\n",
       "      <td>0.278070</td>\n",
       "      <td>1.000000</td>\n",
       "      <td>0.533094</td>\n",
       "      <td>0.103944</td>\n",
       "      <td>0.223841</td>\n",
       "      <td>-0.148865</td>\n",
       "      <td>0.629603</td>\n",
       "      <td>0.515279</td>\n",
       "      <td>0.063228</td>\n",
       "    </tr>\n",
       "    <tr>\n",
       "      <th>StreamingMovies</th>\n",
       "      <td>-0.010487</td>\n",
       "      <td>0.120176</td>\n",
       "      <td>0.117412</td>\n",
       "      <td>-0.039741</td>\n",
       "      <td>0.284841</td>\n",
       "      <td>-0.032959</td>\n",
       "      <td>0.279727</td>\n",
       "      <td>0.427264</td>\n",
       "      <td>0.187398</td>\n",
       "      <td>0.274501</td>\n",
       "      <td>0.402111</td>\n",
       "      <td>0.279358</td>\n",
       "      <td>0.533094</td>\n",
       "      <td>1.000000</td>\n",
       "      <td>0.107520</td>\n",
       "      <td>0.211716</td>\n",
       "      <td>-0.154984</td>\n",
       "      <td>0.627429</td>\n",
       "      <td>0.519884</td>\n",
       "      <td>0.061382</td>\n",
       "    </tr>\n",
       "    <tr>\n",
       "      <th>Contract</th>\n",
       "      <td>0.000126</td>\n",
       "      <td>-0.142554</td>\n",
       "      <td>0.294806</td>\n",
       "      <td>0.243187</td>\n",
       "      <td>0.671135</td>\n",
       "      <td>0.002247</td>\n",
       "      <td>0.110842</td>\n",
       "      <td>-0.290189</td>\n",
       "      <td>0.245530</td>\n",
       "      <td>0.155085</td>\n",
       "      <td>0.219310</td>\n",
       "      <td>0.293691</td>\n",
       "      <td>0.103944</td>\n",
       "      <td>0.107520</td>\n",
       "      <td>1.000000</td>\n",
       "      <td>-0.176733</td>\n",
       "      <td>-0.227543</td>\n",
       "      <td>-0.074195</td>\n",
       "      <td>0.448564</td>\n",
       "      <td>-0.396713</td>\n",
       "    </tr>\n",
       "    <tr>\n",
       "      <th>PaperlessBilling</th>\n",
       "      <td>-0.011754</td>\n",
       "      <td>0.156530</td>\n",
       "      <td>-0.014877</td>\n",
       "      <td>-0.111377</td>\n",
       "      <td>0.006079</td>\n",
       "      <td>0.016505</td>\n",
       "      <td>0.165146</td>\n",
       "      <td>0.378108</td>\n",
       "      <td>-0.003636</td>\n",
       "      <td>0.126735</td>\n",
       "      <td>0.103797</td>\n",
       "      <td>0.037880</td>\n",
       "      <td>0.223841</td>\n",
       "      <td>0.211716</td>\n",
       "      <td>-0.176733</td>\n",
       "      <td>1.000000</td>\n",
       "      <td>-0.062904</td>\n",
       "      <td>0.352150</td>\n",
       "      <td>0.158055</td>\n",
       "      <td>0.191825</td>\n",
       "    </tr>\n",
       "    <tr>\n",
       "      <th>PaymentMethod</th>\n",
       "      <td>0.017352</td>\n",
       "      <td>-0.038551</td>\n",
       "      <td>-0.154798</td>\n",
       "      <td>-0.040292</td>\n",
       "      <td>-0.367307</td>\n",
       "      <td>-0.004184</td>\n",
       "      <td>-0.176793</td>\n",
       "      <td>-0.120971</td>\n",
       "      <td>-0.150100</td>\n",
       "      <td>-0.170898</td>\n",
       "      <td>-0.181085</td>\n",
       "      <td>-0.157272</td>\n",
       "      <td>-0.148865</td>\n",
       "      <td>-0.154984</td>\n",
       "      <td>-0.227543</td>\n",
       "      <td>-0.062904</td>\n",
       "      <td>1.000000</td>\n",
       "      <td>-0.193407</td>\n",
       "      <td>-0.330511</td>\n",
       "      <td>0.107062</td>\n",
       "    </tr>\n",
       "    <tr>\n",
       "      <th>MonthlyCharges</th>\n",
       "      <td>-0.014569</td>\n",
       "      <td>0.220173</td>\n",
       "      <td>0.096848</td>\n",
       "      <td>-0.113890</td>\n",
       "      <td>0.246806</td>\n",
       "      <td>0.247398</td>\n",
       "      <td>0.433576</td>\n",
       "      <td>0.905491</td>\n",
       "      <td>0.296594</td>\n",
       "      <td>0.441780</td>\n",
       "      <td>0.482692</td>\n",
       "      <td>0.338304</td>\n",
       "      <td>0.629603</td>\n",
       "      <td>0.627429</td>\n",
       "      <td>-0.074195</td>\n",
       "      <td>0.352150</td>\n",
       "      <td>-0.193407</td>\n",
       "      <td>1.000000</td>\n",
       "      <td>0.650864</td>\n",
       "      <td>0.193356</td>\n",
       "    </tr>\n",
       "    <tr>\n",
       "      <th>TotalCharges</th>\n",
       "      <td>-0.000002</td>\n",
       "      <td>0.102652</td>\n",
       "      <td>0.318364</td>\n",
       "      <td>0.063593</td>\n",
       "      <td>0.823763</td>\n",
       "      <td>0.113013</td>\n",
       "      <td>0.452849</td>\n",
       "      <td>0.428301</td>\n",
       "      <td>0.412091</td>\n",
       "      <td>0.509607</td>\n",
       "      <td>0.522374</td>\n",
       "      <td>0.432329</td>\n",
       "      <td>0.515279</td>\n",
       "      <td>0.519884</td>\n",
       "      <td>0.448564</td>\n",
       "      <td>0.158055</td>\n",
       "      <td>-0.330511</td>\n",
       "      <td>0.650864</td>\n",
       "      <td>1.000000</td>\n",
       "      <td>-0.199037</td>\n",
       "    </tr>\n",
       "    <tr>\n",
       "      <th>Churn</th>\n",
       "      <td>-0.008612</td>\n",
       "      <td>0.150889</td>\n",
       "      <td>-0.150448</td>\n",
       "      <td>-0.164221</td>\n",
       "      <td>-0.345556</td>\n",
       "      <td>0.011942</td>\n",
       "      <td>0.038037</td>\n",
       "      <td>0.316846</td>\n",
       "      <td>-0.171226</td>\n",
       "      <td>-0.082255</td>\n",
       "      <td>-0.066160</td>\n",
       "      <td>-0.164674</td>\n",
       "      <td>0.063228</td>\n",
       "      <td>0.061382</td>\n",
       "      <td>-0.396713</td>\n",
       "      <td>0.191825</td>\n",
       "      <td>0.107062</td>\n",
       "      <td>0.193356</td>\n",
       "      <td>-0.199037</td>\n",
       "      <td>1.000000</td>\n",
       "    </tr>\n",
       "  </tbody>\n",
       "</table>\n",
       "</div>"
      ],
      "text/plain": [
       "                    gender  SeniorCitizen   Partner  Dependents    tenure  \\\n",
       "gender            1.000000      -0.001874 -0.001808    0.010517  0.005699   \n",
       "SeniorCitizen    -0.001874       1.000000  0.016479   -0.211185  0.015651   \n",
       "Partner          -0.001808       0.016479  1.000000    0.452676  0.376627   \n",
       "Dependents        0.010517      -0.211185  0.452676    1.000000  0.156539   \n",
       "tenure            0.005699       0.015651  0.376627    0.156539  1.000000   \n",
       "PhoneService     -0.006488       0.008576  0.017706   -0.001762  0.009645   \n",
       "MultipleLines    -0.006739       0.146185  0.142410   -0.024991  0.340713   \n",
       "InternetService  -0.010380       0.259390 -0.000132   -0.179631  0.031999   \n",
       "OnlineSecurity   -0.017021      -0.038653  0.143106    0.080972  0.327205   \n",
       "OnlineBackup     -0.013773       0.066572  0.141498    0.023671  0.359881   \n",
       "DeviceProtection -0.002105       0.059428  0.153786    0.013963  0.359141   \n",
       "TechSupport      -0.009212      -0.060625  0.119999    0.063268  0.323959   \n",
       "StreamingTV      -0.008393       0.105378  0.124666   -0.016558  0.279628   \n",
       "StreamingMovies  -0.010487       0.120176  0.117412   -0.039741  0.284841   \n",
       "Contract          0.000126      -0.142554  0.294806    0.243187  0.671135   \n",
       "PaperlessBilling -0.011754       0.156530 -0.014877   -0.111377  0.006079   \n",
       "PaymentMethod     0.017352      -0.038551 -0.154798   -0.040292 -0.367307   \n",
       "MonthlyCharges   -0.014569       0.220173  0.096848   -0.113890  0.246806   \n",
       "TotalCharges     -0.000002       0.102652  0.318364    0.063593  0.823763   \n",
       "Churn            -0.008612       0.150889 -0.150448   -0.164221 -0.345556   \n",
       "\n",
       "                  PhoneService  MultipleLines  InternetService  \\\n",
       "gender               -0.006488      -0.006739        -0.010380   \n",
       "SeniorCitizen         0.008576       0.146185         0.259390   \n",
       "Partner               0.017706       0.142410        -0.000132   \n",
       "Dependents           -0.001762      -0.024991        -0.179631   \n",
       "tenure                0.009645       0.340713         0.031999   \n",
       "PhoneService          1.000000      -0.020538         0.093720   \n",
       "MultipleLines        -0.020538       1.000000         0.329715   \n",
       "InternetService       0.093720       0.329715         1.000000   \n",
       "OnlineSecurity       -0.092893       0.131128         0.156799   \n",
       "OnlineBackup         -0.052312       0.226910         0.307420   \n",
       "DeviceProtection     -0.071227       0.231661         0.313603   \n",
       "TechSupport          -0.096340       0.134768         0.164833   \n",
       "StreamingTV          -0.022574       0.274823         0.429707   \n",
       "StreamingMovies      -0.032959       0.279727         0.427264   \n",
       "Contract              0.002247       0.110842        -0.290189   \n",
       "PaperlessBilling      0.016505       0.165146         0.378108   \n",
       "PaymentMethod        -0.004184      -0.176793        -0.120971   \n",
       "MonthlyCharges        0.247398       0.433576         0.905491   \n",
       "TotalCharges          0.113013       0.452849         0.428301   \n",
       "Churn                 0.011942       0.038037         0.316846   \n",
       "\n",
       "                  OnlineSecurity  OnlineBackup  DeviceProtection  TechSupport  \\\n",
       "gender                 -0.017021     -0.013773         -0.002105    -0.009212   \n",
       "SeniorCitizen          -0.038653      0.066572          0.059428    -0.060625   \n",
       "Partner                 0.143106      0.141498          0.153786     0.119999   \n",
       "Dependents              0.080972      0.023671          0.013963     0.063268   \n",
       "tenure                  0.327205      0.359881          0.359141     0.323959   \n",
       "PhoneService           -0.092893     -0.052312         -0.071227    -0.096340   \n",
       "MultipleLines           0.131128      0.226910          0.231661     0.134768   \n",
       "InternetService         0.156799      0.307420          0.313603     0.164833   \n",
       "OnlineSecurity          1.000000      0.283832          0.275438     0.354931   \n",
       "OnlineBackup            0.283832      1.000000          0.303546     0.294233   \n",
       "DeviceProtection        0.275438      0.303546          1.000000     0.333313   \n",
       "TechSupport             0.354931      0.294233          0.333313     1.000000   \n",
       "StreamingTV             0.176207      0.282106          0.390874     0.278070   \n",
       "StreamingMovies         0.187398      0.274501          0.402111     0.279358   \n",
       "Contract                0.245530      0.155085          0.219310     0.293691   \n",
       "PaperlessBilling       -0.003636      0.126735          0.103797     0.037880   \n",
       "PaymentMethod          -0.150100     -0.170898         -0.181085    -0.157272   \n",
       "MonthlyCharges          0.296594      0.441780          0.482692     0.338304   \n",
       "TotalCharges            0.412091      0.509607          0.522374     0.432329   \n",
       "Churn                  -0.171226     -0.082255         -0.066160    -0.164674   \n",
       "\n",
       "                  StreamingTV  StreamingMovies  Contract  PaperlessBilling  \\\n",
       "gender              -0.008393        -0.010487  0.000126         -0.011754   \n",
       "SeniorCitizen        0.105378         0.120176 -0.142554          0.156530   \n",
       "Partner              0.124666         0.117412  0.294806         -0.014877   \n",
       "Dependents          -0.016558        -0.039741  0.243187         -0.111377   \n",
       "tenure               0.279628         0.284841  0.671135          0.006079   \n",
       "PhoneService        -0.022574        -0.032959  0.002247          0.016505   \n",
       "MultipleLines        0.274823         0.279727  0.110842          0.165146   \n",
       "InternetService      0.429707         0.427264 -0.290189          0.378108   \n",
       "OnlineSecurity       0.176207         0.187398  0.245530         -0.003636   \n",
       "OnlineBackup         0.282106         0.274501  0.155085          0.126735   \n",
       "DeviceProtection     0.390874         0.402111  0.219310          0.103797   \n",
       "TechSupport          0.278070         0.279358  0.293691          0.037880   \n",
       "StreamingTV          1.000000         0.533094  0.103944          0.223841   \n",
       "StreamingMovies      0.533094         1.000000  0.107520          0.211716   \n",
       "Contract             0.103944         0.107520  1.000000         -0.176733   \n",
       "PaperlessBilling     0.223841         0.211716 -0.176733          1.000000   \n",
       "PaymentMethod       -0.148865        -0.154984 -0.227543         -0.062904   \n",
       "MonthlyCharges       0.629603         0.627429 -0.074195          0.352150   \n",
       "TotalCharges         0.515279         0.519884  0.448564          0.158055   \n",
       "Churn                0.063228         0.061382 -0.396713          0.191825   \n",
       "\n",
       "                  PaymentMethod  MonthlyCharges  TotalCharges     Churn  \n",
       "gender                 0.017352       -0.014569     -0.000002 -0.008612  \n",
       "SeniorCitizen         -0.038551        0.220173      0.102652  0.150889  \n",
       "Partner               -0.154798        0.096848      0.318364 -0.150448  \n",
       "Dependents            -0.040292       -0.113890      0.063593 -0.164221  \n",
       "tenure                -0.367307        0.246806      0.823763 -0.345556  \n",
       "PhoneService          -0.004184        0.247398      0.113013  0.011942  \n",
       "MultipleLines         -0.176793        0.433576      0.452849  0.038037  \n",
       "InternetService       -0.120971        0.905491      0.428301  0.316846  \n",
       "OnlineSecurity        -0.150100        0.296594      0.412091 -0.171226  \n",
       "OnlineBackup          -0.170898        0.441780      0.509607 -0.082255  \n",
       "DeviceProtection      -0.181085        0.482692      0.522374 -0.066160  \n",
       "TechSupport           -0.157272        0.338304      0.432329 -0.164674  \n",
       "StreamingTV           -0.148865        0.629603      0.515279  0.063228  \n",
       "StreamingMovies       -0.154984        0.627429      0.519884  0.061382  \n",
       "Contract              -0.227543       -0.074195      0.448564 -0.396713  \n",
       "PaperlessBilling      -0.062904        0.352150      0.158055  0.191825  \n",
       "PaymentMethod          1.000000       -0.193407     -0.330511  0.107062  \n",
       "MonthlyCharges        -0.193407        1.000000      0.650864  0.193356  \n",
       "TotalCharges          -0.330511        0.650864      1.000000 -0.199037  \n",
       "Churn                  0.107062        0.193356     -0.199037  1.000000  "
      ]
     },
     "execution_count": 73,
     "metadata": {},
     "output_type": "execute_result"
    }
   ],
   "source": [
    "corr_mat=df.corr()\n",
    "corr_mat"
   ]
  },
  {
   "cell_type": "code",
   "execution_count": 74,
   "id": "5dd08f57",
   "metadata": {},
   "outputs": [
    {
     "data": {
      "image/png": "[encoded data removed]",
      "text/plain": [
       "<Figure size 1152x576 with 2 Axes>"
      ]
     },
     "metadata": {
      "needs_background": "light"
     },
     "output_type": "display_data"
    }
   ],
   "source": [
    "plt.figure(figsize=[16,8])\n",
    "sns.heatmap(corr_mat,annot=True)\n",
    "plt.title(\"Correlation Matrix\")\n",
    "plt.show()"
   ]
  },
  {
   "cell_type": "markdown",
   "id": "7b51c9d3",
   "metadata": {},
   "source": [
    "Churn has High negative correlation with \"tenure\" and \"Contract\". Churn also has slight correlation with \"TotalCharges\" as wel and further little less correlation with \"Partner\",\"Dependents\",\"OnlineSecurity\" We can see other intercorrelation with coluns like \"PaymentMethod\" with almost all other columns "
   ]
  },
  {
   "cell_type": "code",
   "execution_count": 75,
   "id": "9ce901ca",
   "metadata": {},
   "outputs": [
    {
     "data": {
      "text/plain": [
       "(7043, 20)"
      ]
     },
     "execution_count": 75,
     "metadata": {},
     "output_type": "execute_result"
    }
   ],
   "source": [
    "df.shape"
   ]
  },
  {
   "cell_type": "markdown",
   "id": "ba9db862",
   "metadata": {},
   "source": [
    "# Lets Check Outliers with Box Plot:"
   ]
  },
  {
   "cell_type": "code",
   "execution_count": 76,
   "id": "298eb927",
   "metadata": {},
   "outputs": [
    {
     "data": {
      "text/plain": [
       "gender                 AxesSubplot(0.125,0.536818;0.065678x0.343182)\n",
       "SeniorCitizen       AxesSubplot(0.203814,0.536818;0.065678x0.343182)\n",
       "Partner             AxesSubplot(0.282627,0.536818;0.065678x0.343182)\n",
       "Dependents          AxesSubplot(0.361441,0.536818;0.065678x0.343182)\n",
       "tenure              AxesSubplot(0.440254,0.536818;0.065678x0.343182)\n",
       "PhoneService        AxesSubplot(0.519068,0.536818;0.065678x0.343182)\n",
       "MultipleLines       AxesSubplot(0.597881,0.536818;0.065678x0.343182)\n",
       "InternetService     AxesSubplot(0.676695,0.536818;0.065678x0.343182)\n",
       "OnlineSecurity      AxesSubplot(0.755508,0.536818;0.065678x0.343182)\n",
       "OnlineBackup        AxesSubplot(0.834322,0.536818;0.065678x0.343182)\n",
       "DeviceProtection          AxesSubplot(0.125,0.125;0.065678x0.343182)\n",
       "TechSupport            AxesSubplot(0.203814,0.125;0.065678x0.343182)\n",
       "StreamingTV            AxesSubplot(0.282627,0.125;0.065678x0.343182)\n",
       "StreamingMovies        AxesSubplot(0.361441,0.125;0.065678x0.343182)\n",
       "Contract               AxesSubplot(0.440254,0.125;0.065678x0.343182)\n",
       "PaperlessBilling       AxesSubplot(0.519068,0.125;0.065678x0.343182)\n",
       "PaymentMethod          AxesSubplot(0.597881,0.125;0.065678x0.343182)\n",
       "MonthlyCharges         AxesSubplot(0.676695,0.125;0.065678x0.343182)\n",
       "TotalCharges           AxesSubplot(0.755508,0.125;0.065678x0.343182)\n",
       "Churn                  AxesSubplot(0.834322,0.125;0.065678x0.343182)\n",
       "dtype: object"
      ]
     },
     "execution_count": 76,
     "metadata": {},
     "output_type": "execute_result"
    },
    {
     "data": {
      "image/png": "[encoded data removed]",
      "text/plain": [
       "<Figure size 1152x576 with 20 Axes>"
      ]
     },
     "metadata": {
      "needs_background": "light"
     },
     "output_type": "display_data"
    }
   ],
   "source": [
    "df.plot(kind='box',subplots=True,layout=(2,10),figsize=[16,8])"
   ]
  },
  {
   "cell_type": "markdown",
   "id": "6dd30ee4",
   "metadata": {},
   "source": [
    "Nothing much of outliers in the data from above plot "
   ]
  },
  {
   "cell_type": "markdown",
   "id": "2652411f",
   "metadata": {},
   "source": [
    "# Lets check for Skewness:"
   ]
  },
  {
   "cell_type": "code",
   "execution_count": 77,
   "id": "97ca6c12",
   "metadata": {},
   "outputs": [
    {
     "data": {
      "image/png": "[encoded data removed]",
      "text/plain": [
       "<Figure size 2160x2160 with 20 Axes>"
      ]
     },
     "metadata": {
      "needs_background": "light"
     },
     "output_type": "display_data"
    }
   ],
   "source": [
    "collist=df.columns.values\n",
    "plt.figure(figsize=(30,30))\n",
    "for i in range(0,len(collist)):\n",
    "    plt.subplot(10,10,i+1)\n",
    "    sns.distplot(df[collist[i]])"
   ]
  },
  {
   "cell_type": "markdown",
   "id": "d0391779",
   "metadata": {},
   "source": [
    "Observation shows that skewness is there in almost all the columns. "
   ]
  },
  {
   "cell_type": "markdown",
   "id": "32d665a3",
   "metadata": {},
   "source": [
    "# Outlier Removal:"
   ]
  },
  {
   "cell_type": "code",
   "execution_count": 78,
   "id": "5d5513d7",
   "metadata": {},
   "outputs": [],
   "source": [
    "from scipy.stats import zscore\n",
    "z=np.abs(zscore(df))\n",
    "df_zscore=df[(z<3).all(axis=1)]"
   ]
  },
  {
   "cell_type": "code",
   "execution_count": 79,
   "id": "904687f8",
   "metadata": {},
   "outputs": [
    {
     "data": {
      "text/plain": [
       "(7043, 20)"
      ]
     },
     "execution_count": 79,
     "metadata": {},
     "output_type": "execute_result"
    }
   ],
   "source": [
    "df.shape"
   ]
  },
  {
   "cell_type": "code",
   "execution_count": 80,
   "id": "a7b0d835",
   "metadata": {},
   "outputs": [
    {
     "data": {
      "text/plain": [
       "(6361, 20)"
      ]
     },
     "execution_count": 80,
     "metadata": {},
     "output_type": "execute_result"
    }
   ],
   "source": [
    "df_zscore.shape"
   ]
  },
  {
   "cell_type": "code",
   "execution_count": 81,
   "id": "d40e4496",
   "metadata": {},
   "outputs": [
    {
     "data": {
      "text/plain": [
       "9.683373562402386"
      ]
     },
     "execution_count": 81,
     "metadata": {},
     "output_type": "execute_result"
    }
   ],
   "source": [
    "((7043-6361)/7043)*100"
   ]
  },
  {
   "cell_type": "markdown",
   "id": "e924a9a2",
   "metadata": {},
   "source": [
    "We can notice that there is a big data loss for this small dataset for about 10%. so lets not remove the outliers and proceed with the previous processed datset "
   ]
  },
  {
   "cell_type": "code",
   "execution_count": 82,
   "id": "565395a4",
   "metadata": {},
   "outputs": [
    {
     "data": {
      "text/plain": [
       "gender             -0.019031\n",
       "SeniorCitizen       1.833633\n",
       "Partner             0.067922\n",
       "Dependents          0.875199\n",
       "tenure              0.305564\n",
       "PhoneService       -2.727153\n",
       "MultipleLines       0.118719\n",
       "InternetService    -0.410327\n",
       "OnlineSecurity      0.943722\n",
       "OnlineBackup        0.652817\n",
       "DeviceProtection    0.657450\n",
       "TechSupport         0.924630\n",
       "StreamingTV         0.475581\n",
       "StreamingMovies     0.460199\n",
       "Contract            0.630959\n",
       "PaperlessBilling   -0.375396\n",
       "PaymentMethod      -0.170129\n",
       "MonthlyCharges     -0.220524\n",
       "TotalCharges        0.963789\n",
       "Churn               1.063031\n",
       "dtype: float64"
      ]
     },
     "execution_count": 82,
     "metadata": {},
     "output_type": "execute_result"
    }
   ],
   "source": [
    "df.skew()"
   ]
  },
  {
   "cell_type": "markdown",
   "id": "f6ed4a98",
   "metadata": {},
   "source": [
    "Above ode is used to check skewness in columns and we could notice that there is skewness some columns. So lets try to remove it in below steps. "
   ]
  },
  {
   "cell_type": "markdown",
   "id": "bc351711",
   "metadata": {},
   "source": [
    "# Skewness Removal:"
   ]
  },
  {
   "cell_type": "code",
   "execution_count": 83,
   "id": "58447b9d",
   "metadata": {},
   "outputs": [],
   "source": [
    "x1=df.drop(\"Churn\",axis=1)\n",
    "y1=df[\"Churn\"]"
   ]
  },
  {
   "cell_type": "code",
   "execution_count": 84,
   "id": "2363e8f2",
   "metadata": {},
   "outputs": [],
   "source": [
    "from sklearn.preprocessing import power_transform\n",
    "df_skew=power_transform(x1)\n",
    "df_skew=pd.DataFrame(df_skew,columns=x1.columns)"
   ]
  },
  {
   "cell_type": "markdown",
   "id": "a97edc94",
   "metadata": {},
   "source": [
    " We have used power transformation to reduce the skewness in above code block "
   ]
  },
  {
   "cell_type": "code",
   "execution_count": 85,
   "id": "b88fcba0",
   "metadata": {},
   "outputs": [],
   "source": [
    "x1=df_skew"
   ]
  },
  {
   "cell_type": "code",
   "execution_count": 86,
   "id": "c619325d",
   "metadata": {},
   "outputs": [],
   "source": [
    "from sklearn.preprocessing import MinMaxScaler\n",
    "from sklearn.preprocessing import StandardScaler\n",
    "#scaler = StandardScaler()\n",
    "#x1 = scaler.fit_transform(x1)"
   ]
  },
  {
   "cell_type": "code",
   "execution_count": 87,
   "id": "28b002f1",
   "metadata": {},
   "outputs": [],
   "source": [
    "ms=MinMaxScaler()\n",
    "ms.fit(df_skew)\n",
    "x1=ms.transform(df_skew)\n",
    "x1=pd.DataFrame(x1,columns=df_skew.columns)"
   ]
  },
  {
   "cell_type": "markdown",
   "id": "c40fdee5",
   "metadata": {},
   "source": [
    "we have used MinMax Scaler in order to handle the scaling issues between different columns in above code block. "
   ]
  },
  {
   "cell_type": "markdown",
   "id": "48057261",
   "metadata": {},
   "source": [
    "# Balancing of Imbalanced data and Standardisation:"
   ]
  },
  {
   "cell_type": "code",
   "execution_count": 88,
   "id": "9caa7714",
   "metadata": {},
   "outputs": [
    {
     "data": {
      "text/plain": [
       "0    5174\n",
       "1    1869\n",
       "Name: Churn, dtype: int64"
      ]
     },
     "execution_count": 88,
     "metadata": {},
     "output_type": "execute_result"
    }
   ],
   "source": [
    "df.Churn.value_counts()"
   ]
  },
  {
   "cell_type": "markdown",
   "id": "fa4f4647",
   "metadata": {},
   "source": [
    "As we mentioned in start we have imbalenced data.So we nee to balance it before applying in model building. Or else we will not get good accuracy. So lets proceed with OverSampling as it will not cut down any data or data loss will not be there. So let do sampling with OverSampling for the lower count class in Target variable. "
   ]
  },
  {
   "cell_type": "markdown",
   "id": "79da15e5",
   "metadata": {},
   "source": [
    "# Over Sampling"
   ]
  },
  {
   "cell_type": "code",
   "execution_count": 89,
   "id": "2b8dd671",
   "metadata": {},
   "outputs": [],
   "source": [
    "from imblearn.over_sampling import RandomOverSampler"
   ]
  },
  {
   "cell_type": "code",
   "execution_count": 90,
   "id": "417b1aa0",
   "metadata": {},
   "outputs": [],
   "source": [
    "random_over_sampler = RandomOverSampler()"
   ]
  },
  {
   "cell_type": "code",
   "execution_count": 91,
   "id": "a76c77e7",
   "metadata": {},
   "outputs": [],
   "source": [
    "x,y=random_over_sampler.fit_resample(x1,y1)"
   ]
  },
  {
   "cell_type": "code",
   "execution_count": 92,
   "id": "16571f42",
   "metadata": {},
   "outputs": [
    {
     "data": {
      "text/plain": [
       "((10348, 19), (10348,))"
      ]
     },
     "execution_count": 92,
     "metadata": {},
     "output_type": "execute_result"
    }
   ],
   "source": [
    "x.shape , y.shape"
   ]
  },
  {
   "cell_type": "markdown",
   "id": "c5a713ea",
   "metadata": {},
   "source": [
    "# Checking for best Random State:"
   ]
  },
  {
   "cell_type": "code",
   "execution_count": 93,
   "id": "2edef927",
   "metadata": {},
   "outputs": [
    {
     "name": "stdout",
     "output_type": "stream",
     "text": [
      "Best accuracy is   0.9068950373298199   at random_state: 100\n"
     ]
    }
   ],
   "source": [
    "maxAccu=0\n",
    "maxRS=0\n",
    "for i in range(1,200):\n",
    "    x_train,x_test,y_train,y_test = train_test_split(x,y,test_size=0.22,random_state=i)\n",
    "    lr=RandomForestClassifier()\n",
    "    lr.fit(x_train,y_train)\n",
    "    pred=lr.predict(x_test)\n",
    "    acc=accuracy_score(y_test,pred)\n",
    "    if acc>maxAccu:\n",
    "        maxAccu=acc\n",
    "        maxRS=i\n",
    "print(\"Best accuracy is  \"  ,maxAccu , \"  at random_state:\", maxRS)"
   ]
  },
  {
   "cell_type": "markdown",
   "id": "7cec7414",
   "metadata": {},
   "source": [
    "We have check the best Random state with the above code bolck. The best score is 90% was with Randomstate: 28 "
   ]
  },
  {
   "cell_type": "markdown",
   "id": "a0957342",
   "metadata": {},
   "source": [
    "# Model Building:"
   ]
  },
  {
   "cell_type": "raw",
   "id": "5ce9093e",
   "metadata": {},
   "source": [
    "Lets do modeling with 4 to 5 models so as to get the best fit model for good accuracy and prediction."
   ]
  },
  {
   "cell_type": "code",
   "execution_count": 94,
   "id": "c1124029",
   "metadata": {},
   "outputs": [],
   "source": [
    "x_train,x_test,y_train,y_test = train_test_split(x,y,test_size=0.20,random_state=maxRS)"
   ]
  },
  {
   "cell_type": "code",
   "execution_count": 95,
   "id": "4dc24d1e",
   "metadata": {},
   "outputs": [
    {
     "name": "stdout",
     "output_type": "stream",
     "text": [
      "0.8748792270531401\n",
      "0.882858435097241\n",
      "[[835 217]\n",
      " [ 42 976]]\n",
      "              precision    recall  f1-score   support\n",
      "\n",
      "           0       0.95      0.79      0.87      1052\n",
      "           1       0.82      0.96      0.88      1018\n",
      "\n",
      "    accuracy                           0.87      2070\n",
      "   macro avg       0.89      0.88      0.87      2070\n",
      "weighted avg       0.89      0.87      0.87      2070\n",
      "\n"
     ]
    }
   ],
   "source": [
    "dt=DecisionTreeClassifier()\n",
    "dt.fit(x_train,y_train)\n",
    "preddt=dt.predict(x_test)\n",
    "print(accuracy_score(y_test,preddt))\n",
    "print(f1_score(y_test,preddt))\n",
    "print(confusion_matrix(y_test,preddt))\n",
    "print(classification_report(y_test,preddt))"
   ]
  },
  {
   "cell_type": "code",
   "execution_count": 96,
   "id": "7ea50628",
   "metadata": {},
   "outputs": [
    {
     "name": "stdout",
     "output_type": "stream",
     "text": [
      "0.9096618357487922\n",
      "0.9136258660508083\n",
      "[[894 158]\n",
      " [ 29 989]]\n",
      "              precision    recall  f1-score   support\n",
      "\n",
      "           0       0.97      0.85      0.91      1052\n",
      "           1       0.86      0.97      0.91      1018\n",
      "\n",
      "    accuracy                           0.91      2070\n",
      "   macro avg       0.92      0.91      0.91      2070\n",
      "weighted avg       0.92      0.91      0.91      2070\n",
      "\n"
     ]
    }
   ],
   "source": [
    "rf=RandomForestClassifier()\n",
    "rf.fit(x_train,y_train)\n",
    "predrf=rf.predict(x_test)\n",
    "print(accuracy_score(y_test,predrf))\n",
    "print(f1_score(y_test,predrf))\n",
    "print(confusion_matrix(y_test,predrf))\n",
    "print(classification_report(y_test,predrf))"
   ]
  },
  {
   "cell_type": "code",
   "execution_count": 97,
   "id": "30041371",
   "metadata": {},
   "outputs": [
    {
     "name": "stdout",
     "output_type": "stream",
     "text": [
      "0.7657004830917874\n",
      "[[768 284]\n",
      " [201 817]]\n",
      "              precision    recall  f1-score   support\n",
      "\n",
      "           0       0.79      0.73      0.76      1052\n",
      "           1       0.74      0.80      0.77      1018\n",
      "\n",
      "    accuracy                           0.77      2070\n",
      "   macro avg       0.77      0.77      0.77      2070\n",
      "weighted avg       0.77      0.77      0.77      2070\n",
      "\n"
     ]
    }
   ],
   "source": [
    "gnb=GaussianNB()\n",
    "gnb.fit(x_train,y_train)\n",
    "predgnb=gnb.predict(x_test)\n",
    "print(accuracy_score(y_test,predgnb))\n",
    "print(confusion_matrix(y_test,predgnb))\n",
    "print(classification_report(y_test,predgnb))"
   ]
  },
  {
   "cell_type": "code",
   "execution_count": 98,
   "id": "3c95ca47",
   "metadata": {},
   "outputs": [
    {
     "name": "stdout",
     "output_type": "stream",
     "text": [
      "0.7879227053140097\n",
      "[[783 269]\n",
      " [170 848]]\n",
      "              precision    recall  f1-score   support\n",
      "\n",
      "           0       0.82      0.74      0.78      1052\n",
      "           1       0.76      0.83      0.79      1018\n",
      "\n",
      "    accuracy                           0.79      2070\n",
      "   macro avg       0.79      0.79      0.79      2070\n",
      "weighted avg       0.79      0.79      0.79      2070\n",
      "\n"
     ]
    }
   ],
   "source": [
    "ab=AdaBoostClassifier()\n",
    "ab.fit(x_train,y_train)\n",
    "predab=ab.predict(x_test)\n",
    "print(accuracy_score(y_test,predab))\n",
    "print(confusion_matrix(y_test,predab))\n",
    "print(classification_report(y_test,predab))"
   ]
  },
  {
   "cell_type": "code",
   "execution_count": 99,
   "id": "e2d442e3",
   "metadata": {},
   "outputs": [
    {
     "name": "stdout",
     "output_type": "stream",
     "text": [
      "0.7913043478260869\n",
      "[[789 263]\n",
      " [169 849]]\n",
      "              precision    recall  f1-score   support\n",
      "\n",
      "           0       0.82      0.75      0.79      1052\n",
      "           1       0.76      0.83      0.80      1018\n",
      "\n",
      "    accuracy                           0.79      2070\n",
      "   macro avg       0.79      0.79      0.79      2070\n",
      "weighted avg       0.79      0.79      0.79      2070\n",
      "\n"
     ]
    }
   ],
   "source": [
    "svc=SVC()\n",
    "svc.fit(x_train,y_train)\n",
    "predsv=svc.predict(x_test)\n",
    "print(accuracy_score(y_test,predsv))\n",
    "print(confusion_matrix(y_test,predsv))\n",
    "print(classification_report(y_test,predsv))"
   ]
  },
  {
   "cell_type": "code",
   "execution_count": 100,
   "id": "c2a4678d",
   "metadata": {},
   "outputs": [
    {
     "name": "stdout",
     "output_type": "stream",
     "text": [
      "Cross Validation Score of DecisionTree Model is :  0.8868021855483299\n"
     ]
    }
   ],
   "source": [
    "scr=cross_val_score(dt,x,y,cv=5,scoring='f1')\n",
    "print(\"Cross Validation Score of DecisionTree Model is : \", scr.mean())"
   ]
  },
  {
   "cell_type": "code",
   "execution_count": 101,
   "id": "57219ed5",
   "metadata": {},
   "outputs": [
    {
     "name": "stdout",
     "output_type": "stream",
     "text": [
      "Cross Validation Score of RandomForest Model is :  0.9099680533568819\n"
     ]
    }
   ],
   "source": [
    "scr=cross_val_score(rf,x,y,cv=5,scoring='f1')\n",
    "print(\"Cross Validation Score of RandomForest Model is : \", scr.mean())"
   ]
  },
  {
   "cell_type": "code",
   "execution_count": 102,
   "id": "c2cbdf0b",
   "metadata": {},
   "outputs": [
    {
     "name": "stdout",
     "output_type": "stream",
     "text": [
      "Cross Validation Score of Support Vector Model is :  0.7878141770564993\n"
     ]
    }
   ],
   "source": [
    "scr=cross_val_score(svc,x,y,cv=5,scoring='f1')\n",
    "print(\"Cross Validation Score of Support Vector Model is : \", scr.mean())"
   ]
  },
  {
   "cell_type": "code",
   "execution_count": 103,
   "id": "378c3e68",
   "metadata": {},
   "outputs": [
    {
     "name": "stdout",
     "output_type": "stream",
     "text": [
      "Cross Validation Score of GussianNB Model is :  0.7635733094993118\n"
     ]
    }
   ],
   "source": [
    "scr=cross_val_score(gnb,x,y,cv=5,scoring='f1')\n",
    "print(\"Cross Validation Score of GussianNB Model is : \", scr.mean())"
   ]
  },
  {
   "cell_type": "code",
   "execution_count": 104,
   "id": "477b9eae",
   "metadata": {},
   "outputs": [
    {
     "name": "stdout",
     "output_type": "stream",
     "text": [
      "Cross Validation Score of AdaBoost Model is :  0.7836888272986688\n"
     ]
    }
   ],
   "source": [
    "scr=cross_val_score(ab,x,y,cv=5,scoring='f1')\n",
    "print(\"Cross Validation Score of AdaBoost Model is : \", scr.mean())"
   ]
  },
  {
   "cell_type": "markdown",
   "id": "04b26052",
   "metadata": {},
   "source": [
    "MODEL Accuracy F1_Score CrossValidation Difference DT 88 0.88 0.8878 -0.0078 RF 91 0.91 0.9077 0.0023 GNB 77 0.77 0.7875 -0.0175 ADB 78 0.78 0.7672 0.0128 SVC 79 0.79 0.7809 0.0091 Observation: The above table observation shows that the minimum difference (F1_score and CV) is with RandomForestClassifier. So lets perform further Parameter tuning with that RF model. Also we can see there is small difference only with other models too so lets check whats the performance with other models too. "
   ]
  },
  {
   "cell_type": "markdown",
   "id": "ce1154e7",
   "metadata": {},
   "source": [
    "# 1st Parameter Tuning:"
   ]
  },
  {
   "cell_type": "markdown",
   "id": "a251e2db",
   "metadata": {},
   "source": [
    "RandomForestClassifier"
   ]
  },
  {
   "cell_type": "code",
   "execution_count": 105,
   "id": "9417f12a",
   "metadata": {},
   "outputs": [],
   "source": [
    "#parameters={'max_depth': np.arange(2,10),'criterion': ['gini','entropy']}\n",
    "parameters ={\n",
    "              \"bootstrap\": [True,False],\n",
    "              \"criterion\" : [\"gini\", \"entropy\"],              \n",
    "             }"
   ]
  },
  {
   "cell_type": "code",
   "execution_count": 106,
   "id": "0cab596c",
   "metadata": {},
   "outputs": [],
   "source": [
    "gcv=GridSearchCV(RandomForestClassifier(), parameters,cv=5) #Tuning RandomForestClassifier"
   ]
  },
  {
   "cell_type": "code",
   "execution_count": 107,
   "id": "c2603778",
   "metadata": {},
   "outputs": [
    {
     "data": {
      "text/plain": [
       "GridSearchCV(cv=5, estimator=RandomForestClassifier(),\n",
       "             param_grid={'bootstrap': [True, False],\n",
       "                         'criterion': ['gini', 'entropy']})"
      ]
     },
     "execution_count": 107,
     "metadata": {},
     "output_type": "execute_result"
    }
   ],
   "source": [
    "gcv.fit(x_train,y_train)"
   ]
  },
  {
   "cell_type": "code",
   "execution_count": 108,
   "id": "c96f3990",
   "metadata": {},
   "outputs": [
    {
     "data": {
      "text/plain": [
       "{'bootstrap': False, 'criterion': 'entropy'}"
      ]
     },
     "execution_count": 108,
     "metadata": {},
     "output_type": "execute_result"
    }
   ],
   "source": [
    "gcv.best_params_"
   ]
  },
  {
   "cell_type": "code",
   "execution_count": 109,
   "id": "d84f28e7",
   "metadata": {},
   "outputs": [
    {
     "name": "stdout",
     "output_type": "stream",
     "text": [
      "90.53308823529412\n"
     ]
    }
   ],
   "source": [
    "mod=RandomForestClassifier(bootstrap='False',criterion='gini')\n",
    "mod.fit(x_train,y_train)\n",
    "pred=mod.predict(x_test)\n",
    "print(f1_score(y_test,pred)*100)"
   ]
  },
  {
   "cell_type": "raw",
   "id": "65a1e3bb",
   "metadata": {},
   "source": [
    " 2nd Parameter Tuning:"
   ]
  },
  {
   "cell_type": "markdown",
   "id": "e3dfb80b",
   "metadata": {},
   "source": [
    "Decision Tree Classifier"
   ]
  },
  {
   "cell_type": "code",
   "execution_count": 110,
   "id": "dfca30f5",
   "metadata": {},
   "outputs": [],
   "source": [
    "#from scipy.stats import randint\n",
    "#param_dist = {\"max_depth\": [3, None],\"max_features\": randint(1, 9),\"min_samples_leaf\": randint(1, 9),\"criterion\": [\"gini\", \"entropy\"]}\n",
    "parameters ={\"criterion\" : [\"gini\", \"entropy\"]}"
   ]
  },
  {
   "cell_type": "code",
   "execution_count": 111,
   "id": "c5ea0ac5",
   "metadata": {},
   "outputs": [],
   "source": [
    "gcv=GridSearchCV(DecisionTreeClassifier(), parameters,cv=5) #Tuning DecisionTreeClassifier"
   ]
  },
  {
   "cell_type": "code",
   "execution_count": 112,
   "id": "18695360",
   "metadata": {},
   "outputs": [
    {
     "data": {
      "text/plain": [
       "GridSearchCV(cv=5, estimator=DecisionTreeClassifier(),\n",
       "             param_grid={'criterion': ['gini', 'entropy']})"
      ]
     },
     "execution_count": 112,
     "metadata": {},
     "output_type": "execute_result"
    }
   ],
   "source": [
    "gcv.fit(x_train,y_train)"
   ]
  },
  {
   "cell_type": "code",
   "execution_count": 113,
   "id": "ad3a856b",
   "metadata": {},
   "outputs": [
    {
     "data": {
      "text/plain": [
       "GridSearchCV(cv=5, estimator=DecisionTreeClassifier(),\n",
       "             param_grid={'criterion': ['gini', 'entropy']})"
      ]
     },
     "execution_count": 113,
     "metadata": {},
     "output_type": "execute_result"
    }
   ],
   "source": [
    "gcv.fit(x_train,y_train)"
   ]
  },
  {
   "cell_type": "code",
   "execution_count": 114,
   "id": "e7213b60",
   "metadata": {},
   "outputs": [
    {
     "name": "stdout",
     "output_type": "stream",
     "text": [
      "87.5840430300314\n"
     ]
    }
   ],
   "source": [
    "mod2=DecisionTreeClassifier(criterion='entropy',random_state=maxRS)\n",
    "mod2.fit(x_train,y_train)\n",
    "pred=mod2.predict(x_test)\n",
    "print(f1_score(y_test,pred)*100)"
   ]
  },
  {
   "cell_type": "markdown",
   "id": "d965c428",
   "metadata": {},
   "source": [
    "3rd Parameter Tuning:"
   ]
  },
  {
   "cell_type": "markdown",
   "id": "f9e4fda8",
   "metadata": {},
   "source": [
    "SVC Model"
   ]
  },
  {
   "cell_type": "code",
   "execution_count": 115,
   "id": "24664f6a",
   "metadata": {},
   "outputs": [],
   "source": [
    "parameters = {'C': [1, 10, 100],'kernel':['poly','rbf','sigmoid']}"
   ]
  },
  {
   "cell_type": "code",
   "execution_count": 116,
   "id": "b75039cd",
   "metadata": {},
   "outputs": [],
   "source": [
    "gcv=GridSearchCV(SVC(), parameters,cv=5) #Tuning svc"
   ]
  },
  {
   "cell_type": "code",
   "execution_count": 117,
   "id": "d73df0ef",
   "metadata": {},
   "outputs": [
    {
     "data": {
      "text/plain": [
       "GridSearchCV(cv=5, estimator=SVC(),\n",
       "             param_grid={'C': [1, 10, 100],\n",
       "                         'kernel': ['poly', 'rbf', 'sigmoid']})"
      ]
     },
     "execution_count": 117,
     "metadata": {},
     "output_type": "execute_result"
    }
   ],
   "source": [
    "gcv.fit(x_train,y_train)"
   ]
  },
  {
   "cell_type": "code",
   "execution_count": 118,
   "id": "778c48f0",
   "metadata": {},
   "outputs": [
    {
     "data": {
      "text/plain": [
       "{'C': 100, 'kernel': 'rbf'}"
      ]
     },
     "execution_count": 118,
     "metadata": {},
     "output_type": "execute_result"
    }
   ],
   "source": [
    "gcv.best_params_"
   ]
  },
  {
   "cell_type": "code",
   "execution_count": null,
   "id": "1f0df8a3",
   "metadata": {},
   "outputs": [],
   "source": [
    "mod3=SVC(C=100,gamma=0.1,kernel='rbf',random_state=maxRS)\n",
    "mod3.fit(x_train,y_train)\n",
    "pred=mod3.predict(x_test)\n",
    "print(f1_score(y_test,pred)*100)"
   ]
  },
  {
   "cell_type": "markdown",
   "id": "76f6d5d7",
   "metadata": {},
   "source": [
    "# After parameter tuning ,We have got 92% accuracy from RandomForestClassifier model.Hence it would be the best model to proceed for Prediction.\n",
    "Lets Check with AUC-ROC curve:\n"
   ]
  },
  {
   "cell_type": "code",
   "execution_count": 119,
   "id": "100f1fe0",
   "metadata": {},
   "outputs": [],
   "source": [
    "from sklearn.metrics import plot_roc_curve"
   ]
  },
  {
   "cell_type": "code",
   "execution_count": 120,
   "id": "94bd6b3b",
   "metadata": {},
   "outputs": [
    {
     "data": {
      "image/png": "[encoded data removed]",
      "text/plain": [
       "<Figure size 432x288 with 1 Axes>"
      ]
     },
     "metadata": {
      "needs_background": "light"
     },
     "output_type": "display_data"
    }
   ],
   "source": [
    "plot_roc_curve(mod,x_test,y_test)\n",
    "plt.title('Receiver Operating Charecteristics')\n",
    "plt.xlabel('False Positive Rate')\n",
    "plt.ylabel('True Positive Rate')\n",
    "plt.show()"
   ]
  },
  {
   "cell_type": "code",
   "execution_count": 121,
   "id": "ca75b351",
   "metadata": {},
   "outputs": [
    {
     "data": {
      "image/png": "[encoded data removed]",
      "text/plain": [
       "<Figure size 432x288 with 1 Axes>"
      ]
     },
     "metadata": {
      "needs_background": "light"
     },
     "output_type": "display_data"
    }
   ],
   "source": [
    "plot_roc_curve(mod2,x_test,y_test)\n",
    "plt.title('Receiver Operating Charecteristics')\n",
    "plt.xlabel('False Positive Rate')\n",
    "plt.ylabel('True Positive Rate')\n",
    "plt.show()"
   ]
  },
  {
   "cell_type": "code",
   "execution_count": 122,
   "id": "0631e47d",
   "metadata": {},
   "outputs": [
    {
     "ename": "NameError",
     "evalue": "name 'mod3' is not defined",
     "output_type": "error",
     "traceback": [
      "\u001b[1;31m---------------------------------------------------------------------------\u001b[0m",
      "\u001b[1;31mNameError\u001b[0m                                 Traceback (most recent call last)",
      "\u001b[1;32m<ipython-input-122-49cb8e37d0ed>\u001b[0m in \u001b[0;36m<module>\u001b[1;34m\u001b[0m\n\u001b[1;32m----> 1\u001b[1;33m \u001b[0mplot_roc_curve\u001b[0m\u001b[1;33m(\u001b[0m\u001b[0mmod3\u001b[0m\u001b[1;33m,\u001b[0m\u001b[0mx_test\u001b[0m\u001b[1;33m,\u001b[0m\u001b[0my_test\u001b[0m\u001b[1;33m)\u001b[0m\u001b[1;33m\u001b[0m\u001b[1;33m\u001b[0m\u001b[0m\n\u001b[0m\u001b[0;32m      2\u001b[0m \u001b[0mplt\u001b[0m\u001b[1;33m.\u001b[0m\u001b[0mtitle\u001b[0m\u001b[1;33m(\u001b[0m\u001b[1;34m'Receiver Operating Charecteristics'\u001b[0m\u001b[1;33m)\u001b[0m\u001b[1;33m\u001b[0m\u001b[1;33m\u001b[0m\u001b[0m\n\u001b[0;32m      3\u001b[0m \u001b[0mplt\u001b[0m\u001b[1;33m.\u001b[0m\u001b[0mxlabel\u001b[0m\u001b[1;33m(\u001b[0m\u001b[1;34m'False Positive Rate'\u001b[0m\u001b[1;33m)\u001b[0m\u001b[1;33m\u001b[0m\u001b[1;33m\u001b[0m\u001b[0m\n\u001b[0;32m      4\u001b[0m \u001b[0mplt\u001b[0m\u001b[1;33m.\u001b[0m\u001b[0mylabel\u001b[0m\u001b[1;33m(\u001b[0m\u001b[1;34m'True Positive Rate'\u001b[0m\u001b[1;33m)\u001b[0m\u001b[1;33m\u001b[0m\u001b[1;33m\u001b[0m\u001b[0m\n\u001b[0;32m      5\u001b[0m \u001b[0mplt\u001b[0m\u001b[1;33m.\u001b[0m\u001b[0mshow\u001b[0m\u001b[1;33m(\u001b[0m\u001b[1;33m)\u001b[0m\u001b[1;33m\u001b[0m\u001b[1;33m\u001b[0m\u001b[0m\n",
      "\u001b[1;31mNameError\u001b[0m: name 'mod3' is not defined"
     ]
    }
   ],
   "source": [
    "plot_roc_curve(mod3,x_test,y_test)\n",
    "plt.title('Receiver Operating Charecteristics')\n",
    "plt.xlabel('False Positive Rate')\n",
    "plt.ylabel('True Positive Rate')\n",
    "plt.show()"
   ]
  },
  {
   "cell_type": "markdown",
   "id": "9f137610",
   "metadata": {},
   "source": [
    "Observation: Seems to be almost 97% with RandomForest model in AUC-ROC plot which is best percentage score."
   ]
  },
  {
   "cell_type": "markdown",
   "id": "26a492d5",
   "metadata": {},
   "source": [
    "# Saving the Model:"
   ]
  },
  {
   "cell_type": "code",
   "execution_count": 123,
   "id": "d53420dd",
   "metadata": {},
   "outputs": [
    {
     "data": {
      "text/plain": [
       "['Churn.pkl']"
      ]
     },
     "execution_count": 123,
     "metadata": {},
     "output_type": "execute_result"
    }
   ],
   "source": [
    "import joblib\n",
    "joblib.dump(mod,\"Churn.pkl\")"
   ]
  },
  {
   "cell_type": "code",
   "execution_count": 124,
   "id": "55d781ec",
   "metadata": {},
   "outputs": [],
   "source": [
    "mod=joblib.load(\"Churn.pkl\")"
   ]
  },
  {
   "cell_type": "code",
   "execution_count": 125,
   "id": "ecd4830e",
   "metadata": {},
   "outputs": [],
   "source": [
    "prediction=mod.predict(x_test)"
   ]
  },
  {
   "cell_type": "code",
   "execution_count": 126,
   "id": "dcb92e4b",
   "metadata": {},
   "outputs": [
    {
     "name": "stdout",
     "output_type": "stream",
     "text": [
      "90.53308823529412\n"
     ]
    }
   ],
   "source": [
    "print(f1_score(y_test,prediction)*100)"
   ]
  },
  {
   "cell_type": "markdown",
   "id": "c257ffa1",
   "metadata": {},
   "source": [
    "Observation: We have save and loaded in above codes and checked for the accuracy too. "
   ]
  },
  {
   "cell_type": "code",
   "execution_count": 127,
   "id": "7eca157b",
   "metadata": {},
   "outputs": [],
   "source": [
    "prediction=pd.DataFrame(prediction) #Converting into Dataframe"
   ]
  },
  {
   "cell_type": "code",
   "execution_count": 128,
   "id": "a5ecd33d",
   "metadata": {},
   "outputs": [],
   "source": [
    "prediction.to_csv('Churn.csv') #Saving the predictions"
   ]
  },
  {
   "cell_type": "code",
   "execution_count": 129,
   "id": "eee46352",
   "metadata": {},
   "outputs": [
    {
     "data": {
      "text/html": [
       "<div>\n",
       "<style scoped>\n",
       "    .dataframe tbody tr th:only-of-type {\n",
       "        vertical-align: middle;\n",
       "    }\n",
       "\n",
       "    .dataframe tbody tr th {\n",
       "        vertical-align: top;\n",
       "    }\n",
       "\n",
       "    .dataframe thead th {\n",
       "        text-align: right;\n",
       "    }\n",
       "</style>\n",
       "<table border=\"1\" class=\"dataframe\">\n",
       "  <thead>\n",
       "    <tr style=\"text-align: right;\">\n",
       "      <th></th>\n",
       "      <th>0</th>\n",
       "    </tr>\n",
       "  </thead>\n",
       "  <tbody>\n",
       "    <tr>\n",
       "      <th>0</th>\n",
       "      <td>1</td>\n",
       "    </tr>\n",
       "    <tr>\n",
       "      <th>1</th>\n",
       "      <td>1</td>\n",
       "    </tr>\n",
       "    <tr>\n",
       "      <th>2</th>\n",
       "      <td>1</td>\n",
       "    </tr>\n",
       "    <tr>\n",
       "      <th>3</th>\n",
       "      <td>1</td>\n",
       "    </tr>\n",
       "    <tr>\n",
       "      <th>4</th>\n",
       "      <td>1</td>\n",
       "    </tr>\n",
       "    <tr>\n",
       "      <th>...</th>\n",
       "      <td>...</td>\n",
       "    </tr>\n",
       "    <tr>\n",
       "      <th>2065</th>\n",
       "      <td>0</td>\n",
       "    </tr>\n",
       "    <tr>\n",
       "      <th>2066</th>\n",
       "      <td>0</td>\n",
       "    </tr>\n",
       "    <tr>\n",
       "      <th>2067</th>\n",
       "      <td>1</td>\n",
       "    </tr>\n",
       "    <tr>\n",
       "      <th>2068</th>\n",
       "      <td>1</td>\n",
       "    </tr>\n",
       "    <tr>\n",
       "      <th>2069</th>\n",
       "      <td>0</td>\n",
       "    </tr>\n",
       "  </tbody>\n",
       "</table>\n",
       "<p>2070 rows × 1 columns</p>\n",
       "</div>"
      ],
      "text/plain": [
       "      0\n",
       "0     1\n",
       "1     1\n",
       "2     1\n",
       "3     1\n",
       "4     1\n",
       "...  ..\n",
       "2065  0\n",
       "2066  0\n",
       "2067  1\n",
       "2068  1\n",
       "2069  0\n",
       "\n",
       "[2070 rows x 1 columns]"
      ]
     },
     "execution_count": 129,
     "metadata": {},
     "output_type": "execute_result"
    }
   ],
   "source": [
    "prediction"
   ]
  },
  {
   "cell_type": "markdown",
   "id": "e31c2a18",
   "metadata": {},
   "source": [
    "# Summary and Observation:"
   ]
  },
  {
   "cell_type": "markdown",
   "id": "79735c9e",
   "metadata": {},
   "source": [
    "Hence we have Saved the model and Checked by loading whether its working fine. and checked with predicting."
   ]
  },
  {
   "cell_type": "code",
   "execution_count": null,
   "id": "01bf3b1c",
   "metadata": {},
   "outputs": [],
   "source": []
  },
  {
   "cell_type": "code",
   "execution_count": null,
   "id": "64fdc047",
   "metadata": {},
   "outputs": [],
   "source": []
  },
  {
   "cell_type": "code",
   "execution_count": null,
   "id": "4e5c0c6e",
   "metadata": {},
   "outputs": [],
   "source": []
  },
  {
   "cell_type": "code",
   "execution_count": null,
   "id": "fbf6ea3c",
   "metadata": {},
   "outputs": [],
   "source": []
  }
 ],
 "metadata": {
  "kernelspec": {
   "display_name": "Python 3",
   "language": "python",
   "name": "python3"
  },
  "language_info": {
   "codemirror_mode": {
    "name": "ipython",
    "version": 3
   },
   "file_extension": ".py",
   "mimetype": "text/x-python",
   "name": "python",
   "nbconvert_exporter": "python",
   "pygments_lexer": "ipython3",
   "version": "3.8.5"
  },
  "toc": {
   "base_numbering": 1,
   "nav_menu": {},
   "number_sections": true,
   "sideBar": true,
   "skip_h1_title": false,
   "title_cell": "Table of Contents",
   "title_sidebar": "Contents",
   "toc_cell": false,
   "toc_position": {},
   "toc_section_display": true,
   "toc_window_display": false
  }
 },
 "nbformat": 4,
 "nbformat_minor": 5
}
